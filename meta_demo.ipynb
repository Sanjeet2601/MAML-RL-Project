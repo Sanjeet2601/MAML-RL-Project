{
 "cells": [
  {
   "cell_type": "code",
   "execution_count": 1,
   "metadata": {
    "id": "JfJzhbPkSS2P"
   },
   "outputs": [],
   "source": [
    "\n",
    "# # IMPORTANT: RUN THIS CELL IN ORDER TO IMPORT YOUR KAGGLE DATA SOURCES\n",
    "# # TO THE CORRECT LOCATION (/kaggle/input) IN YOUR NOTEBOOK,\n",
    "# # THEN FEEL FREE TO DELETE THIS CELL.\n",
    "# # NOTE: THIS NOTEBOOK ENVIRONMENT DIFFERS FROM KAGGLE'S PYTHON\n",
    "# # ENVIRONMENT SO THERE MAY BE MISSING LIBRARIES USED BY YOUR\n",
    "# # NOTEBOOK.\n",
    "\n",
    "# import os\n",
    "# import sys\n",
    "# from tempfile import NamedTemporaryFile\n",
    "# from urllib.request import urlopen\n",
    "# from urllib.parse import unquote, urlparse\n",
    "# from urllib.error import HTTPError\n",
    "# from zipfile import ZipFile\n",
    "# import tarfile\n",
    "# import shutil\n",
    "\n",
    "# CHUNK_SIZE = 40960\n",
    "# DATA_SOURCE_MAPPING = 'mypendu:https%3A%2F%2Fstorage.googleapis.com%2Fkaggle-data-sets%2F4827676%2F8160127%2Fbundle%2Farchive.zip%3FX-Goog-Algorithm%3DGOOG4-RSA-SHA256%26X-Goog-Credential%3Dgcp-kaggle-com%2540kaggle-161607.iam.gserviceaccount.com%252F20240419%252Fauto%252Fstorage%252Fgoog4_request%26X-Goog-Date%3D20240419T004513Z%26X-Goog-Expires%3D259200%26X-Goog-SignedHeaders%3Dhost%26X-Goog-Signature%3Db9450a25a4b4b9dd445df4044dc73798408b6424ea287f57b6996e9842297dffe7c22d3fd589d98a8cdb48e44dd7bad999a4c4fb14ef6163b1a3107b4db377248c7e6e5ecaa4e6a9d2f71dd4a602dded581222bebdfd06d3dc130af9a1d831d9a3be951961486c9eb5cdd35e33b3b640f539a540573b35d4a31ead8d99720f23f75f79b2c96f5c5cc5c341d1b27f62327a27f834eb22abd0733ecd029fafbe35717e63ae402a2d197dc918538193f0943a889bae00b8e6eed75b394e8b3e5a3c20ca8c7788ea48ab27df062dff0872ce69358b9706c83d4934db1162c2dcc10dac4bba8ea1fa8d2c726234c47d46bcd192e1f1b6fd0bc7d2000d75a9d4918097'\n",
    "\n",
    "# KAGGLE_INPUT_PATH='/kaggle/input'\n",
    "# KAGGLE_WORKING_PATH='/kaggle/working'\n",
    "# KAGGLE_SYMLINK='kaggle'\n",
    "\n",
    "# !umount /kaggle/input/ 2> /dev/null\n",
    "# shutil.rmtree('/kaggle/input', ignore_errors=True)\n",
    "# os.makedirs(KAGGLE_INPUT_PATH, 0o777, exist_ok=True)\n",
    "# os.makedirs(KAGGLE_WORKING_PATH, 0o777, exist_ok=True)\n",
    "\n",
    "# try:\n",
    "#   os.symlink(KAGGLE_INPUT_PATH, os.path.join(\"..\", 'input'), target_is_directory=True)\n",
    "# except FileExistsError:\n",
    "#   pass\n",
    "# try:\n",
    "#   os.symlink(KAGGLE_WORKING_PATH, os.path.join(\"..\", 'working'), target_is_directory=True)\n",
    "# except FileExistsError:\n",
    "#   pass\n",
    "\n",
    "# for data_source_mapping in DATA_SOURCE_MAPPING.split(','):\n",
    "#     directory, download_url_encoded = data_source_mapping.split(':')\n",
    "#     download_url = unquote(download_url_encoded)\n",
    "#     filename = urlparse(download_url).path\n",
    "#     destination_path = os.path.join(KAGGLE_INPUT_PATH, directory)\n",
    "#     try:\n",
    "#         with urlopen(download_url) as fileres, NamedTemporaryFile() as tfile:\n",
    "#             total_length = fileres.headers['content-length']\n",
    "#             print(f'Downloading {directory}, {total_length} bytes compressed')\n",
    "#             dl = 0\n",
    "#             data = fileres.read(CHUNK_SIZE)\n",
    "#             while len(data) > 0:\n",
    "#                 dl += len(data)\n",
    "#                 tfile.write(data)\n",
    "#                 done = int(50 * dl / int(total_length))\n",
    "#                 sys.stdout.write(f\"\\r[{'=' * done}{' ' * (50-done)}] {dl} bytes downloaded\")\n",
    "#                 sys.stdout.flush()\n",
    "#                 data = fileres.read(CHUNK_SIZE)\n",
    "#             if filename.endswith('.zip'):\n",
    "#               with ZipFile(tfile) as zfile:\n",
    "#                 zfile.extractall(destination_path)\n",
    "#             else:\n",
    "#               with tarfile.open(tfile.name) as tarfile:\n",
    "#                 tarfile.extractall(destination_path)\n",
    "#             print(f'\\nDownloaded and uncompressed: {directory}')\n",
    "#     except HTTPError as e:\n",
    "#         print(f'Failed to load (likely expired) {download_url} to path {destination_path}')\n",
    "#         continue\n",
    "#     except OSError as e:\n",
    "#         print(f'Failed to load {download_url} to path {destination_path}')\n",
    "#         continue\n",
    "\n",
    "# print('Data source import complete.')\n"
   ]
  },
  {
   "cell_type": "markdown",
   "metadata": {
    "id": "vu2sPr1he69K"
   },
   "source": [
    "# OpenAI Gym Environments\n",
    "<a id=\"Environment\"></a>"
   ]
  },
  {
   "cell_type": "code",
   "execution_count": 2,
   "metadata": {
    "id": "DGsfs7tefecH",
    "scrolled": true
   },
   "outputs": [],
   "source": [
    "# !pip install gymnasium\n",
    "# !pip install swig\n",
    "# !pip install gymnasium[box2d]\n",
    "# !pip install gymnasium[mujoco]"
   ]
  },
  {
   "cell_type": "code",
   "execution_count": 3,
   "metadata": {
    "id": "8GoDm9R3iGN9"
   },
   "outputs": [],
   "source": [
    "# %env MUJOCO_GL=egl"
   ]
  },
  {
   "cell_type": "code",
   "execution_count": null,
   "metadata": {
    "id": "ldi276eYSS2X"
   },
   "outputs": [],
   "source": []
  },
  {
   "cell_type": "code",
   "execution_count": 4,
   "metadata": {
    "id": "bRm0PQfFe69L"
   },
   "outputs": [],
   "source": [
    "# all imports go in here\n",
    "import gymnasium as gym\n",
    "import numpy as np\n",
    "import matplotlib.pyplot as plt\n",
    "import torch\n",
    "import torch.nn as nn\n",
    "import torch.nn.functional as F\n",
    "import torch.optim as optim\n",
    "\n",
    "import time\n",
    "import random\n",
    "from itertools import count, cycle\n",
    "from collections import deque, namedtuple\n",
    "import timeit\n",
    "from tqdm import tqdm\n",
    "from torch.autograd import grad\n",
    "import mujoco_py\n",
    "import mujoco\n",
    "import mediapy as media\n",
    "import copy"
   ]
  },
  {
   "cell_type": "code",
   "execution_count": 5,
   "metadata": {
    "id": "1uOe1zIQSS2Y"
   },
   "outputs": [],
   "source": [
    "# import os\n",
    "# os.chdir('/kaggle/input/mypendu')\n",
    "import mypendu\n",
    "\n",
    "gym.envs.register(\n",
    "    id='mypendu1',\n",
    "    entry_point='mypendu:mypendu1',\n",
    ")"
   ]
  },
  {
   "cell_type": "markdown",
   "metadata": {
    "id": "aKuc7N03e69M"
   },
   "source": [
    "In this assignment we will be exploring Deep RL algorithms and for this we will be using environmentd provided by OpenAI Gym. In particular we will be exploring \"Pendulum-v1\" , \"Hopper-v4\", and \"Half-Cheetah\" environments (https://gymnasium.farama.org/environments/classic_control/ ). The code to instantiate the environments are given in the cells below. Run these cells and play with the environments to learn more details about the environments."
   ]
  },
  {
   "cell_type": "code",
   "execution_count": 6,
   "metadata": {
    "id": "IZZ8jRnDe69M"
   },
   "outputs": [],
   "source": [
    "# # Create Inverted Pendulum environment\n",
    "# #https://gymnasium.farama.org/environments/classic_control/cart_pole/\n",
    "\n",
    "# env = gym.make('Pendulum-v1', render_mode=\"rgb_array\")\n",
    "# s = env.reset(seed = 34)\n",
    "# print(\"Observation Space = \")\n",
    "# print(env.observation_space)\n",
    "# print(\"Action Space = \")\n",
    "# print(env.action_space)\n",
    "# done = False\n",
    "# for episode in range(20):\n",
    "#     print(\"In episode {}\".format(episode))\n",
    "#     for i in range(100):\n",
    "#         env.render()\n",
    "#         print(s)\n",
    "#         a = env.action_space.sample()\n",
    "#         s, r, done, truncated, _ = env.step(a)\n",
    "#         if done:\n",
    "#             print(\"Finished after {} timestep\".format(i+1))\n",
    "# env.close()"
   ]
  },
  {
   "cell_type": "code",
   "execution_count": 113,
   "metadata": {
    "id": "-CDCgNI5e69M"
   },
   "outputs": [],
   "source": [
    "\n",
    "\n",
    "# # Create Hopper environment\n",
    "# # https://gymnasium.farama.org/environments/mujoco/hopper/\n",
    "\n",
    "\n",
    "# import gymnasium as gym\n",
    "# env = gym.make(\"Humanoid-v4\", render_mode = \"human\")\n",
    "# s = env.reset(seed = 34)\n",
    "# print(\"Observation Space = \")\n",
    "# print(env.observation_space)\n",
    "# print(\"Action Space = \")\n",
    "# print(env.action_space)\n",
    "# done = False\n",
    "# for episode in range(1):\n",
    "#     # print(\"In episode {}\".format(episode))\n",
    "#     for i in range(100):\n",
    "#         env.render()\n",
    "#         # print(s)\n",
    "#         a = env.action_space.sample()\n",
    "#         s, r, done, truncated, _ = env.step(a)\n",
    "#         if done:\n",
    "#             print(\"Finished after {} timestep\".format(i+1))\n",
    "# env.close()\n"
   ]
  },
  {
   "cell_type": "code",
   "execution_count": 8,
   "metadata": {
    "id": "5p4J86xXe69M"
   },
   "outputs": [],
   "source": [
    "\n",
    "\n",
    "# # Create Half-Cheetah environment\n",
    "# # https://gymnasium.farama.org/environments/mujoco/hopper/\n",
    "\n",
    "\n",
    "# import gymnasium as gym\n",
    "# env = gym.make(\"HalfCheetah-v4\", render_mode = \"rgb_array\")\n",
    "# s = env.reset(seed = 34)\n",
    "# print(\"Observation Space = \")\n",
    "# print(env.observation_space)\n",
    "# print(\"Action Space = \")\n",
    "# print(env.action_space)\n",
    "# done = False\n",
    "# for episode in range(1):\n",
    "#     print(\"In episode {}\".format(episode))\n",
    "#     for i in range(100):\n",
    "#         env.render()\n",
    "#         print(s)\n",
    "#         a = env.action_space.sample()\n",
    "#         s, r, done, truncated, _ = env.step(a)\n",
    "#         if done:\n",
    "#             print(\"Finished after {} timestep\".format(i+1))\n",
    "# env.close()\n"
   ]
  },
  {
   "cell_type": "markdown",
   "metadata": {
    "id": "UQLclV2be69M"
   },
   "source": [
    "# Hyperparameters\n",
    "<a id=\"Hyperparameters\"></a>\n",
    "\n",
    "All your hyperparameters should be stated here. We will change their value here and your code should work  accordingly."
   ]
  },
  {
   "cell_type": "code",
   "execution_count": 9,
   "metadata": {
    "id": "sobxx_zVe69N"
   },
   "outputs": [],
   "source": [
    "# mention the values of all the hyperparameters (you can add more hyper-paramters as well) to be used in the entire notebook, put the values that gave the best\n",
    "# performance and were finally used for the agent\n",
    "\n",
    "gamma = 0.99\n",
    "noiseScaleRatio = 0.8\n",
    "minSamples = 25\n",
    "epochs = 5\n",
    "tau = 0.1\n",
    "\n",
    "\n",
    "\n",
    "MAX_TRAIN_EPISODES = 120\n",
    "MAX_EVAL_EPISODES = 1\n",
    "device = torch.device(\"cuda:0\" if torch.cuda.is_available() else \"cpu\")"
   ]
  },
  {
   "cell_type": "code",
   "execution_count": 10,
   "metadata": {
    "id": "F9_tt8gA9svu"
   },
   "outputs": [],
   "source": [
    "seeds = [0,1,2,3,4]"
   ]
  },
  {
   "cell_type": "markdown",
   "metadata": {
    "id": "zDzb1p2ee69N"
   },
   "source": [
    "# Helper Functions\n",
    "<a id=\"helper\"></a>\n",
    "\n",
    "Write all the helper functions that will be used for value-based and policy based algorithms below. In case you want to add more helper functions, please feel free to add."
   ]
  },
  {
   "cell_type": "code",
   "execution_count": 11,
   "metadata": {
    "id": "rbLSqS_Be69N"
   },
   "outputs": [],
   "source": [
    "#Value Network\n",
    "def createValueNetwork(inDim, outDim, action_size, hDim = [32,32], activation = F.relu):\n",
    "    #this creates a Feed Forward Neural Network class and instantiates it and returns the class\n",
    "    #the class should be derived from torch nn.Module and it should have init and forward method at the very least\n",
    "    #the forward function should return q-value for each possible action\n",
    "\n",
    "    class ValueNetwork(nn.Module):\n",
    "      def __init__(self,inDim,outDim,hDim,activation):\n",
    "        super(ValueNetwork,self).__init__()\n",
    "        self.fc1 = nn.Linear(inDim+action_size,hDim[0])\n",
    "        self.linear_layers = nn.ModuleList()\n",
    "        for i in range(len(hDim)-1):\n",
    "            # if i == 1:\n",
    "            #     self.linear_layers.append(nn.Linear(hDim[i-1]+action_size, hDim[i]))\n",
    "            # else:\n",
    "            self.linear_layers.append(nn.Linear(hDim[i], hDim[i+1]))\n",
    "\n",
    "        # Output layer\n",
    "        self.output_layer = nn.Linear(hDim[-1], outDim)\n",
    "        self.act = activation\n",
    "\n",
    "      def forward(self,src,src2):\n",
    "        out = torch.cat([src,src2],1)\n",
    "        # print(src.shape)\n",
    "        out = self.fc1(out)\n",
    "        out = torch.relu(out)\n",
    "        for i,layer in enumerate(self.linear_layers):\n",
    "            out = torch.relu(layer(out))\n",
    "        out = self.output_layer(out)\n",
    "        return out\n",
    "    valueNetwork = ValueNetwork(inDim,outDim,hDim,activation)\n",
    "\n",
    "    return valueNetwork"
   ]
  },
  {
   "cell_type": "code",
   "execution_count": 12,
   "metadata": {
    "id": "nlWjseCYe69N"
   },
   "outputs": [],
   "source": [
    "#Policy Network\n",
    "def createPolicyNetwork(inDim, outDim,envActionRange ,hDim = [32,32], activation = F.relu):\n",
    "    #this creates a Feed Forward Neural Network class and instantiates it and returns the class\n",
    "    #the class should be derived from torch nn.Module and it should have init and forward method at the very least\n",
    "    #the forward function should return action logit vector\n",
    "    al,ah = envActionRange\n",
    "    al,ah = torch.tensor(al),torch.tensor(ah)\n",
    "    class PolicyNetwork(nn.Module):\n",
    "      def __init__(self,inDim,outDim,hDim,activation):\n",
    "        super(PolicyNetwork,self).__init__()\n",
    "        self.linear_layers = nn.ModuleList()\n",
    "        for i in range(len(hDim)):\n",
    "            if i == 0:\n",
    "                self.linear_layers.append(nn.Linear(inDim, hDim[i]))\n",
    "            else:\n",
    "                self.linear_layers.append(nn.Linear(hDim[i-1], hDim[i]))\n",
    "\n",
    "        # Output layer\n",
    "        self.output_layer = nn.Linear(hDim[-1], outDim)\n",
    "        self.act = activation\n",
    "        self.tanh =  nn.Tanh()\n",
    "      def forward(self,x):\n",
    "        for layer in self.linear_layers:\n",
    "            x = torch.relu(layer(x))\n",
    "\n",
    "        # Forward pass through the output layer\n",
    "        x = self.output_layer(x)\n",
    "        out  = torch.tanh(x)\n",
    "        out = out*ah\n",
    "        return out\n",
    "\n",
    "    policyNetwork = PolicyNetwork(inDim,outDim,hDim,activation)\n",
    "\n",
    "\n",
    "    return policyNetwork"
   ]
  },
  {
   "cell_type": "code",
   "execution_count": 13,
   "metadata": {
    "id": "ghUNEBc7jkfg"
   },
   "outputs": [],
   "source": [
    "def moving_average(arr, window_size):\n",
    "    \"\"\"\n",
    "    Moving average function to smoothen the results.\n",
    "    \"\"\"\n",
    "    kernel = np.ones(window_size) / window_size\n",
    "    moving_avg = np.convolve(arr, kernel, mode='valid')\n",
    "    return moving_avg"
   ]
  },
  {
   "cell_type": "code",
   "execution_count": 14,
   "metadata": {
    "id": "4PqJW89FbJCD"
   },
   "outputs": [],
   "source": [
    "def plotQuantity(quantityListDict, descriptionList, lln=-1):\n",
    "    #this function takes in the quantityListDict and plots quantity vs episodes.\n",
    "    #quantityListListDict = {envInstanceCount: quantityList}\n",
    "    #quantityList is list of the qunatity per episode,\n",
    "    #for example it could be mean reward per episode, traintime per episode, etc.\n",
    "    #\n",
    "    #NOTE: len(quantityList) == totalEpisodeCount\n",
    "    #\n",
    "    #Since we run multiple instances of the environment, there will be variance across environments\n",
    "    #so in the plot, you will plot per episode maximum, minimum and average value across all env instances\n",
    "    #Basically, you need to envelop (e.g., via color) the quantity between max and min with mean value in between\n",
    "    #\n",
    "    #use the descriptionList parameter to put legends, title, etc.\n",
    "    #For each of the plot, create the legend on the left/right side so that it doesn't overlay on the plot lines/envelop.\n",
    "    #\n",
    "    #this is a generic function and can be used to plot any of the quantity of interest\n",
    "    #In particular we will be using this function to plot:\n",
    "    #        mean train rewards vs episodes\n",
    "    #        mean evaluation rewards vs episodes\n",
    "    #        total steps vs episode\n",
    "    #        train time vs episode\n",
    "    #        wall clock time vs episode\n",
    "    #\n",
    "    #\n",
    "    #this function doesn't return anything\n",
    "    plt.rcParams['figure.figsize'] = (15, 10)\n",
    "    for i,des in enumerate(descriptionList):\n",
    "        # print(des)\n",
    "        for j,agent in enumerate(quantityListDict):\n",
    "            lists = agent\n",
    "#             print(lists)\n",
    "#             lists = np.array(lists[:4])\n",
    "            agent_dis =[]\n",
    "            for k in range(len(lists)):\n",
    "                # print(\"k\",k)\n",
    "                # print(\"lk\",len(lists[k]))\n",
    "                # print(\"lki\",len(lists[k][i]))\n",
    "                agent_dis.append(lists[k][i][:lln])\n",
    "            lists = np.array(agent_dis)\n",
    "            # print(lists.shape)\n",
    "            plts = moving_average(np.mean(lists,axis=0),2)\n",
    "            low = moving_average(np.min(lists,axis=0),2)\n",
    "            high = moving_average(np.max(lists,axis=0),2)\n",
    "            plt.plot(plts,label='{}'.format(j))\n",
    "            plt.xlabel(des)\n",
    "            plt.fill_between(np.arange(0,len(plts)), low, high, where=(high > low), alpha=0.2)\n",
    "        plt.legend()\n",
    "        plt.show()\n",
    "    return"
   ]
  },
  {
   "cell_type": "markdown",
   "metadata": {
    "id": "o4zCW_BJe69N"
   },
   "source": [
    "## ReplayBuffer"
   ]
  },
  {
   "cell_type": "markdown",
   "metadata": {
    "id": "uVbSqpd4e69N"
   },
   "source": [
    "In next few cells, you will implement replaybuffer class.\n",
    "\n",
    "This class creates a buffer for storing and retrieving experiences. This is a generic class and can be used\n",
    "for different agents like NFQ, DQN, DDQN, PER_DDQN, etc.\n",
    "Following are the methods for this class which are implemented in subsequent cells\n",
    "\n",
    "```\n",
    "class ReplayBuffer():\n",
    "    def __init__(self, bufferSize, batch_size, seed)\n",
    "    def store(self, state, action, reward, next_state, done)\n",
    "    def sample(self, batchSize)\n",
    "    def length(self)\n",
    "```   "
   ]
  },
  {
   "cell_type": "code",
   "execution_count": 15,
   "metadata": {
    "id": "wmfzgfjye69O"
   },
   "outputs": [],
   "source": [
    "class ReplayBuffer():\n",
    "    def __init__(self, buffer_size, batch_size, seed):\n",
    "        # this function creates the relevant data-structures, and intializes all relevant variables\n",
    "        self.exp = []\n",
    "        self.buffer_size = buffer_size\n",
    "        self.seed = seed\n",
    "        self.batch_size = batch_size\n",
    "        # self.f=0\n",
    "#         if \"PER\" in self.buffertype:\n",
    "#           self.f=1\n",
    "#         for key,value in kwargs.items():\n",
    "#           setattr(self,key,value)\n",
    "# #         print(self.f,bufferType)\n",
    "        return"
   ]
  },
  {
   "cell_type": "code",
   "execution_count": 16,
   "metadata": {
    "id": "AzOFK6J_e69O"
   },
   "outputs": [],
   "source": [
    "class ReplayBuffer(ReplayBuffer):\n",
    "    def store(self, state, action, reward, next_state, done):\n",
    "        #stores the experiences, based on parameters in init\n",
    "        #\n",
    "        #this function does not return anything\n",
    "        #\n",
    "        if len(self.exp)==self.buffer_size:\n",
    "            self.exp = self.exp[1:]\n",
    "        experience = (state,action,reward,next_state,done)\n",
    "        self.exp.append(experience)\n",
    "\n",
    "        return"
   ]
  },
  {
   "cell_type": "code",
   "execution_count": 17,
   "metadata": {
    "id": "8PButFbGe69O"
   },
   "outputs": [],
   "source": [
    "class ReplayBuffer(ReplayBuffer):\n",
    "    def sample(self, batchSize):\n",
    "        # this method returns batchSize number of experiences\n",
    "        # this function returns experiences samples\n",
    "        #\n",
    "\n",
    "        indices = np.random.choice(len(self.exp), min(batchSize,len(self.exp)), replace=False)\n",
    "        experiencesList = [self.exp[id] for id in indices]\n",
    "        return experiencesList"
   ]
  },
  {
   "cell_type": "code",
   "execution_count": 18,
   "metadata": {
    "id": "soTqec0dxQme"
   },
   "outputs": [],
   "source": [
    "class ReplayBuffer(ReplayBuffer):\n",
    "    def splitExperiences(self, experiences):\n",
    "        #it takes in experiences and gives the following:\n",
    "        #states, actions, rewards, nextStates, dones\n",
    "        #\n",
    "        # print(experiences[1][0])\n",
    "        # print(experiences[2])\n",
    "        l = len(experiences)\n",
    "        states = np.array([experiences[i][0] for i in range(l)])\n",
    "        actions = np.array([experiences[i][1] for i in range(l)])\n",
    "        rewards = np.array([experiences[i][2] for i in range(l)])\n",
    "        nextStates = np.array([experiences[i][3] for i in range(l)])\n",
    "        dones = np.array([experiences[i][4] for i in range(l)])\n",
    "        return states, actions, rewards, nextStates, dones"
   ]
  },
  {
   "cell_type": "code",
   "execution_count": 19,
   "metadata": {
    "id": "3-hD18lee69O"
   },
   "outputs": [],
   "source": [
    "class ReplayBuffer(ReplayBuffer):\n",
    "    def length(self):\n",
    "        #tells the number of experiences stored in the internal buffer\n",
    "        #\n",
    "        return len(self.exp)"
   ]
  },
  {
   "cell_type": "code",
   "execution_count": 20,
   "metadata": {
    "id": "AHzUPhcMSS2b"
   },
   "outputs": [],
   "source": [
    "class ReplayBuffer(ReplayBuffer):\n",
    "        def clean(self):\n",
    "            self.exp.clear()\n",
    "            return"
   ]
  },
  {
   "cell_type": "markdown",
   "metadata": {
    "id": "_jVXlGOye69O"
   },
   "source": [
    "## Deep Deterministic Policy Gradient (DDPG) ##\n",
    "<a id=\"ddpg\"></a>"
   ]
  },
  {
   "cell_type": "markdown",
   "metadata": {
    "id": "f0Ju4nQMe69O"
   },
   "source": [
    "Implement the Deep Deterministic Policy Gradient (DDPG) agent. We have studied about DDPG agent in the Lecture. Use the function definitions (given below).\n",
    "\n",
    "This class implements the DDPG agent, you are required to implement the various methods of this class\n",
    "as outlined below. Note this class is generic and should work with any permissible Gym environment\n",
    "\n",
    "```\n",
    "class DDPG():\n",
    "    def init(self, env, seed, gamma, tau, bufferSize, batch_size, updateFrequency,\n",
    "             policyOptimizerFn, valueOptimizerFn,\n",
    "             policyOptimizerLR,valueOptimizerLR,\n",
    "             MAX_TRAIN_EPISODES,MAX_EVAL_EPISODE,\n",
    "             optimizerFn)\n",
    "    \n",
    "    def runDDPG(self)\n",
    "    def trainAgent(self)\n",
    "    def gaussianStrategy(self, net , s , envActionRange , noiseScaleRatio,\n",
    "        explorationMax = True)\n",
    "    def greedyStrategy(self, net , s , envActionRange)\n",
    "    def trainNetworks(self, experiences)\n",
    "    def updateNetworks(self, onlineNet, targetNet, tau)\n",
    "    def evaluateAgent(self)\n",
    "\n",
    "\n",
    "\n",
    "\n",
    "```"
   ]
  },
  {
   "cell_type": "code",
   "execution_count": 21,
   "metadata": {
    "id": "qYntSx4me69P"
   },
   "outputs": [],
   "source": [
    "class DDPG():\n",
    "    def __init__(self, env, seed, gamma, tau, bufferSize, batch_size,hdim, updateFrequency,\n",
    "             policyOptimizerFn, valueOptimizerFn,\n",
    "             policyOptimizerLR,valueOptimizerLR,\n",
    "             MAX_TRAIN_EPISODES,MAX_EVAL_EPISODE,\n",
    "             optimizerFn):\n",
    "        #this DDPG method\n",
    "        # 1. creates and initializes (with seed) the environment, train/eval episodes, gamma, etc.\n",
    "        # 2. creates and intializes all the variables required for book-keeping values via the initBookKeeping method\n",
    "        # 3. creates targetValueNetwork , targetPolicyNetwork\n",
    "        # 4. creates and initializes (with network params) the optimizer function\n",
    "        # 5. creates onlineValueNetwork, onlinePolicyNetwork\n",
    "        # 6. Creates the replayBuffer\n",
    "\n",
    "        self.env = env\n",
    "        self.env.reset(seed=seed)\n",
    "        self.gamma = gamma\n",
    "        self.tau = tau\n",
    "        self.buffer_size = bufferSize\n",
    "        self.batch_size = batch_size\n",
    "        self.updateFrequency = updateFrequency\n",
    "        self.tep = MAX_TRAIN_EPISODES\n",
    "        self.eep = MAX_EVAL_EPISODE\n",
    "\n",
    "\n",
    "        indim,outdim = self.env.observation_space.shape[0],self.env.action_space.shape[0]\n",
    "        envActionRange = (self.env.action_space.low[0],self.env.action_space.high[0])\n",
    "        self.tvnet = createValueNetwork(indim,1,outdim,hdim)\n",
    "        self.tpnet = createPolicyNetwork(indim,outdim,envActionRange,hdim)\n",
    "        self.ovnet = createValueNetwork(indim,1,outdim,hdim)\n",
    "        self.opnet = createPolicyNetwork(indim,outdim,envActionRange,hdim)\n",
    "        self.tvnet.load_state_dict(self.ovnet.state_dict())\n",
    "        self.tpnet.load_state_dict(self.opnet.state_dict())\n",
    "        if policyOptimizerFn=='adam':\n",
    "          self.poptim = torch.optim.Adam(self.opnet.parameters(),lr = policyOptimizerLR)\n",
    "        elif policyOptimizerFn=='sgd':\n",
    "          self.poptim = torch.optim.SGD(self.opnet.parameters(),lr = policyOptimizerLR)\n",
    "        else:\n",
    "          self.poptim = torch.optim.RMSprop(self.opnet.parameters(),lr = policyOptimizerLR)\n",
    "\n",
    "        if valueOptimizerFn=='adam':\n",
    "          self.voptim = torch.optim.Adam(self.ovnet.parameters(),lr = valueOptimizerLR)\n",
    "        elif valueOptimizerFn=='sgd':\n",
    "          self.voptim = torch.optim.SGD(self.ovnet.parameters(),lr = valueOptimizerLR)\n",
    "        else:\n",
    "          self.voptim = torch.optim.RMSprop(self.ovnet.parameters(),lr = valueOptimizerLR)\n",
    "        self.initBookKeeping()\n",
    "        self.rbuffer = ReplayBuffer(self.buffer_size,self.batch_size,seed)\n"
   ]
  },
  {
   "cell_type": "code",
   "execution_count": 22,
   "metadata": {
    "id": "5aSw0QHFkzXe"
   },
   "outputs": [],
   "source": [
    "class DDPG(DDPG):\n",
    "    def initBookKeeping(self):\n",
    "        #this method creates and intializes all the variables required for book-keeping values and it is called\n",
    "        #init method\n",
    "      self.trainRewardsList = []\n",
    "      self.trainTimeList = []\n",
    "      self.evalRewardsList = []\n",
    "      self.wallClockTimeList = []\n",
    "      self.steps = []"
   ]
  },
  {
   "cell_type": "code",
   "execution_count": 23,
   "metadata": {
    "id": "xnXAVAZYD_J8"
   },
   "outputs": [],
   "source": [
    "class DDPG(DDPG):\n",
    "    def performBookKeeping(self,rewards, train = True):\n",
    "        #this method updates relevant variables for the bookKeeping, this can be called\n",
    "        #multiple times during training\n",
    "        #if you want you can print information using this, so it may help to monitor progress and also help to debug\n",
    "        #\n",
    "        if train:\n",
    "          self.trainRewardsList.append(np.sum(rewards))\n",
    "          # self.trainTimeList.append(self.traintime)\n",
    "          # self.wallClockTimeList.append(self.st_time-self.end_time)\n",
    "        else:\n",
    "          self.evalRewardsList.append(np.sum(rewards))\n",
    "        return"
   ]
  },
  {
   "cell_type": "code",
   "execution_count": 24,
   "metadata": {
    "id": "DRwyutrRe69P"
   },
   "outputs": [],
   "source": [
    "class DDPG(DDPG):\n",
    "    def updateNetworks(self, onlineNet, targetNet, tau):\n",
    "        #this function updates the onlineNetwork with the target network\n",
    "        #\n",
    "        targetNet.load_state_dict(onlineNet.state_dict())\n",
    "        new_state_dict = {name:param for name,param in targetNet.named_parameters()}\n",
    "        for p1,p2 in zip(targetNet.named_parameters(),onlineNet.named_parameters()):\n",
    "          new_state_dict[p1[0]] = tau*p2[1]+(1-tau)*p1[1]\n",
    "        targetNet.load_state_dict(new_state_dict)\n",
    "        return onlineNet,targetNet\n"
   ]
  },
  {
   "cell_type": "code",
   "execution_count": 25,
   "metadata": {
    "id": "jqdbg-VMe69P"
   },
   "outputs": [],
   "source": [
    "class DDPG(DDPG):\n",
    "    def gaussianStrategy (self, net , s , envActionRange , noiseScaleRatio ,\n",
    "        explorationMax = True ):\n",
    "        #this function sets the scale of exploration then add the noise of this scale to the greedy action\n",
    "        #and clips it within the range\n",
    "\n",
    "        actionlowval,actionhighval = envActionRange\n",
    "        if explorationMax:\n",
    "            scale = actionhighval\n",
    "        else:\n",
    "            scale = noiseScaleRatio*actionhighval\n",
    "        # print(s.shape)\n",
    "        s = torch.tensor(s).float()\n",
    "        greedyaction = net(s.view(1,-1))\n",
    "        noise = scale*torch.randn(self.env.action_space.shape[0])\n",
    "\n",
    "        action = greedyaction+noise\n",
    "\n",
    "        # action = np.clip(action,actionlowval,actionhighval)\n",
    "        # print(greedyaction,noise,action)\n",
    "        return action"
   ]
  },
  {
   "cell_type": "code",
   "execution_count": 26,
   "metadata": {
    "id": "nJqajfXve69P"
   },
   "outputs": [],
   "source": [
    "class DDPG(DDPG):\n",
    "    def greedyStrategy (self, net , s , envActionRange ):\n",
    "        #this function selects the greedy action\n",
    "        #and clips it within the range\n",
    "\n",
    "        actionlowval,actionhighval = envActionRange\n",
    "        s = torch.tensor(s).float()\n",
    "        action = net(s.view(1,-1))\n",
    "        # action = torch.clamp(action,min=actionlowval,max=actionhighval)\n",
    "        return action"
   ]
  },
  {
   "cell_type": "code",
   "execution_count": 27,
   "metadata": {
    "id": "-30L67-me69P"
   },
   "outputs": [],
   "source": [
    "class DDPG(DDPG):\n",
    "    def runDDPG (self):\n",
    "        #this is the main method, it trains the agent, performs bookkeeping while training and finally evaluates\n",
    "        #the agent and returns the following quantities:\n",
    "        #1. episode wise mean train rewards\n",
    "        #2. epsiode wise mean eval rewards\n",
    "        #2. episode wise trainTime (in seconds): time elapsed during training since the start of the first episode\n",
    "        #3. episode wise wallClockTime (in seconds): actual time elapsed since the start of training,\n",
    "        #                               note this will include time for BookKeeping and evaluation\n",
    "        # Note both trainTime and wallClockTime get accumulated as episodes proceed.\n",
    "        #\n",
    "        result_train = self.trainAgent()\n",
    "        result_eval = self.evaluateAgent()\n",
    "        # self.finalEvalReward = result_eval[-1]\n",
    "        # plot\n",
    "\n",
    "        return self.trainRewardsList, self.trainTimeList, self.evalRewardsList, self.wallClockTimeList,self.steps\n"
   ]
  },
  {
   "cell_type": "code",
   "execution_count": 28,
   "metadata": {
    "id": "Nk035a9me69P"
   },
   "outputs": [],
   "source": [
    "class DDPG(DDPG):\n",
    "    def trainAgent(self):\n",
    "        #this method collects experiences and trains the agent and does BookKeeping while training.\n",
    "        #this calls the trainNetwork() method internally, it also evaluates the agent per episode\n",
    "        #it trains the agent for MAX_TRAIN_EPISODES\n",
    "        #\n",
    "        # self.ovnet,self.tvnet = self.updateNetworks(self.ovnet,self.tvnet,1)\n",
    "        # self.opnet,self.tpnet = self.updateNetworks(self.opnet,self.tpnet,1)\n",
    "        w_time = 0\n",
    "        t_time=0\n",
    "        envActionRange = (self.env.action_space.low[0],self.env.action_space.high[0])\n",
    "        for e in tqdm(range(self.tep)):\n",
    "            stps = 0\n",
    "            self.st_time = time.time()\n",
    "            rew=0\n",
    "            s,_ = self.env.reset()\n",
    "            done = False\n",
    "            trunc = False\n",
    "            self.traintime = 0\n",
    "            while not (done or trunc):\n",
    "                a = self.gaussianStrategy(self.opnet,s,envActionRange,noiseScaleRatio,explorationMax=False)\n",
    "                # a = self.greedyStrategy(self.opnet,s,envActionRange)\n",
    "                a = a.data.numpy().flatten()\n",
    "                # print(env.step(a))\n",
    "                stps+=1\n",
    "                s_next,r,done,trunc,_ = self.env.step(a)\n",
    "                rew+=r\n",
    "                self.rbuffer.store(s,a,r,s_next,done)\n",
    "                # print(self.rbuffer.length(),done)\n",
    "                # if self.rbuffer.length()>1:\n",
    "                #     print('in',self.rbuffer.length(),done)\n",
    "                # print(done)\n",
    "                s = s_next\n",
    "                if self.rbuffer.length()>minSamples:\n",
    "                    experiences = self.rbuffer.sample(self.batch_size)\n",
    "                    self.traintime = timeit.timeit(lambda :self.trainNetwork(experiences),number=1)\n",
    "                # if e%self.updateFrequency==0:\n",
    "                #     self.ovnet,self.tvnet = self.updateNetworks(self.ovnet,self.tvnet,self.tau)\n",
    "                #     self.opnet,self.tpnet = self.updateNetworks(self.opnet,self.tpnet,self.tau)\n",
    "            # print(rew)\n",
    "            self.steps.append(stps)\n",
    "            self.performBookKeeping(rew)\n",
    "            self.evaluateAgent()\n",
    "            self.end_time = time.time()\n",
    "            w_time+=self.end_time-self.st_time\n",
    "            t_time+=self.traintime\n",
    "            self.wallClockTimeList.append(w_time)\n",
    "            self.trainTimeList.append(t_time)\n",
    "        return self.trainRewardsList, self.trainTimeList, self.evalRewardsList, self.wallClockTimeList"
   ]
  },
  {
   "cell_type": "code",
   "execution_count": 29,
   "metadata": {
    "id": "RPWXcf-je69R"
   },
   "outputs": [],
   "source": [
    "\n",
    "class DDPG(DDPG):\n",
    "    def trainNetwork(self, experiences):\n",
    "        # this method trains the value network epoch number of times and is called by the trainAgent function\n",
    "        # it essentially uses the experiences to calculate target, using the targets it calculates the error, which\n",
    "        # is further used for calulating the loss. It then uses the optimizer over the loss\n",
    "        # to update the params of the network by backpropagating through the network\n",
    "        # this function does not return anything\n",
    "        # you can try out other loss functions other than MSE like Huber loss, MAE, etc.\n",
    "        #\n",
    "        states,actions,rewards,nextstates,dones= self.rbuffer.splitExperiences(experiences)\n",
    "        states = torch.tensor(states).float()\n",
    "        actions = torch.tensor(actions).float()\n",
    "        rewards = torch.tensor(rewards).float()\n",
    "        nextstates = torch.tensor(nextstates).float()\n",
    "        dones = torch.tensor(dones).float()\n",
    "        # print(states.shape,actions.shape,rewards.shape,nextstates.shape,dones.shape)\n",
    "        for ep in range(epochs):\n",
    "\n",
    "            # argmax_a_qs_v = self.tpnet(nextstates)\n",
    "            # print(self.tvnet(torch.tensor(np.array(nextstates),dtype = torch.float32),argmax_a_qs_v),argmax_a_qs_v)\n",
    "            target_q = self.tvnet(nextstates,self.tpnet(nextstates))\n",
    "            target_q = rewards.view(-1,1)+(1-dones.view(-1,1))*self.gamma*target_q.detach()\n",
    "            qs = self.ovnet(states,actions)\n",
    "            vloss = loss_fn(qs,target_q)\n",
    "\n",
    "            self.voptim.zero_grad()\n",
    "            vloss.backward()\n",
    "            # nn.utils.clip_grad_norm_(self.ovnet.parameters(), 10.0)\n",
    "            self.voptim.step()\n",
    "\n",
    "            # argmax_a_qs_p = self.opnet(nextstates)\n",
    "            # max_a_qs_p = self.ovnet(nextstates,self.opnet(nextstates)).mean()\n",
    "            ploss = -self.ovnet(nextstates,self.opnet(nextstates)).mean()\n",
    "            self.poptim.zero_grad()\n",
    "            # print(grad(ploss,self.opnet.parameters(),retain_graph = True,allow_unused = True))\n",
    "            ploss.backward()\n",
    "\n",
    "            # nn.utils.clip_grad_norm_(self.opnet.parameters(), 10.0)\n",
    "            self.poptim.step()\n",
    "        # self.ovnet,self.tvnet = self.updateNetworks(self.ovnet,self.tvnet,self.tau)\n",
    "        # self.opnet,self.tpnet = self.updateNetworks(self.opnet,self.tpnet,self.tau)\n",
    "        for param, target_param in zip(self.ovnet.parameters(), self.tvnet.parameters()):\n",
    "            target_param.data.copy_(self.tau * param.data + (1 - self.tau) * target_param.data)\n",
    "\n",
    "        for param, target_param in zip(self.opnet.parameters(), self.tpnet.parameters()):\n",
    "            target_param.data.copy_(self.tau * param.data + (1 - self.tau) * target_param.data)"
   ]
  },
  {
   "cell_type": "code",
   "execution_count": 30,
   "metadata": {
    "id": "kh1rx5Xee69R"
   },
   "outputs": [],
   "source": [
    "class DDPG(DDPG):\n",
    "    def evaluateAgent(self):\n",
    "        #this function evaluates the agent using the value network, it evaluates agent for MAX_EVAL_EPISODES\n",
    "        #typcially MAX_EVAL_EPISODES = 1\n",
    "        #\n",
    "        rew = []\n",
    "        envActionRange = (self.env.action_space.low[0],self.env.action_space.high[0])\n",
    "        for e in range(self.eep):\n",
    "            rs= 0\n",
    "            s,_ = self.env.reset()\n",
    "            done = False\n",
    "            trunc = False\n",
    "            for c in count():\n",
    "                a = self.greedyStrategy(self.opnet,s,envActionRange)\n",
    "                a = a.view(-1).detach().numpy()\n",
    "                s,r,done,trunc,_ = self.env.step(a)\n",
    "                rs+=r\n",
    "                if done or trunc:\n",
    "                    rew.append(rs)\n",
    "                    break\n",
    "        print(np.sum(rew))\n",
    "        self.performBookKeeping(rew,train=False)\n",
    "        return"
   ]
  },
  {
   "cell_type": "code",
   "execution_count": 31,
   "metadata": {
    "id": "YNe_TCi98V7C"
   },
   "outputs": [],
   "source": [
    "# # env = gym.make('CartPole-v0')\n",
    "# # env = gym.make(\"Hopper-v4\")\n",
    "# env = gym.make(\"Pendulum-v1\")\n",
    "# # env = gym.make(\"HalfCheetah-v4\")\n",
    "# # print(env.action_space)\n",
    "# minSamples = 128\n",
    "# epochs = 1\n",
    "# noiseScaleRatio = 0.1\n",
    "# # loss_fn = nn.SmoothL1Loss()\n",
    "# loss_fn = nn.MSELoss()\n",
    "# ddpg = DDPG(env,seeds[0],0.99,0.005,100000,128,[512,256],1,'adam','adam',0.001,0.001,1000,1,_)\n",
    "# plt_list = ddpg.runDDPG()\n"
   ]
  },
  {
   "cell_type": "code",
   "execution_count": 32,
   "metadata": {
    "id": "j8BXKggQIWmn"
   },
   "outputs": [],
   "source": [
    "# plt.plot(ddpg.trainRewardsList)\n",
    "# plt.show()\n",
    "# plt.plot(ddpg.evalRewardsList)"
   ]
  },
  {
   "cell_type": "code",
   "execution_count": 33,
   "metadata": {
    "id": "3bZ0EpbI-446"
   },
   "outputs": [],
   "source": [
    "# print(env.observation_space.shape)"
   ]
  },
  {
   "cell_type": "markdown",
   "metadata": {
    "id": "HzpF-ABVe69R"
   },
   "source": [
    "# Twin-Delayed Deep Deterministic Policy Gradient (TD3)\n",
    "<a id=\"td3\"></a>"
   ]
  },
  {
   "cell_type": "markdown",
   "metadata": {
    "id": "ndZTyP1ie69R"
   },
   "source": [
    "Implement the Twin-delayed deep deterministic policy gradient (TD3) agent. We have studied about TD3 agent in the Lecture. Use the function definitions (given below).\n",
    "\n",
    "This class implements the TD3 agent, you are required to implement the various methods of this class\n",
    "as outlined below. Note this class is generic and should work with any permissible Gym environment\n",
    "\n",
    "```\n",
    "class DDPG():\n",
    "    def init(env, gamma, tau,\n",
    "    bufferSize ,\n",
    "    updateFrequencyPolicy ,\n",
    "    updateFrequencyValue ,\n",
    "    trainPolicyFrequency ,\n",
    "    policyOptimizerFn ,\n",
    "    valueOptimizerFn ,\n",
    "    policyOptimizerLR ,\n",
    "    valueOptimizerLR ,\n",
    "    MAX TRAIN EPISODES,\n",
    "    MAX EVAL EPISODE,\n",
    "    optimizerFn )\n",
    "    \n",
    "    def runTD3 (self)\n",
    "    def trainAgent (self)\n",
    "    def gaussianStrategy (self, net , s , envActionRange , noiseScaleRatio ,\n",
    "        explorationMax = True)\n",
    "    def greedyStrategy (self, net , s , envActionRange)\n",
    "    def trainNetworks (self,experiences , envActionRange)\n",
    "    def updateValueNetwork(self, onlineNet, targetNet, tau)\n",
    "    def updatePolicyNetwork(self, onlineNet, targetNet, tau)\n",
    "    def evaluateAgent (self)\n",
    "\n",
    "\n",
    "\n",
    "```"
   ]
  },
  {
   "cell_type": "code",
   "execution_count": 34,
   "metadata": {
    "id": "qERrGcz-e69S"
   },
   "outputs": [],
   "source": [
    "class TD3():\n",
    "    def __init__(self,env,seed, gamma, tau,\n",
    "    bufferSize ,\n",
    "    batch_size,\n",
    "    hdim,\n",
    "    updateFrequencyPolicy ,\n",
    "    updateFrequencyValue ,\n",
    "    trainPolicyFrequency ,\n",
    "    policyOptimizerFn ,\n",
    "    valueOptimizerFn ,\n",
    "    policyOptimizerLR ,\n",
    "    valueOptimizerLR ,\n",
    "    MAX_TRAIN_EPISODES,\n",
    "    MAX_EVAL_EPISODE,\n",
    "    MAX_META_EPISODES,\n",
    "    optimizerFn,\n",
    "    MAX_ALLOWED_STEPS):\n",
    "        #this TD3 method\n",
    "        # 1. creates and initializes (with seed) the environment, train/eval episodes, gamma, etc.\n",
    "        # 2. creates and intializes all the variables required for book-keeping values via the initBookKeeping method\n",
    "        # 3. creates targetValueNetwork , targetPolicyNetwork\n",
    "        # 4. creates and initializes (with network params) the optimizer function\n",
    "        # 5. creates onlineValueNetwork, onlinePolicyNetwork\n",
    "        # 6. Creates the replayBuffer\n",
    "\n",
    "        self.env = env\n",
    "        self.env.reset(seed=seed)\n",
    "        self.gamma = gamma\n",
    "        self.tau = tau\n",
    "        self.buffer_size = bufferSize\n",
    "        self.batch_size = batch_size\n",
    "        self.updateFrequencyPolicy = updateFrequencyPolicy\n",
    "        self.updateFrequencyValue = updateFrequencyValue\n",
    "        self.trainPolicyFrequency = trainPolicyFrequency\n",
    "        self.tep = MAX_TRAIN_EPISODES\n",
    "        self.eep = MAX_EVAL_EPISODE\n",
    "        self.mep = MAX_META_EPISODES\n",
    "        self.mx_stps = MAX_ALLOWED_STEPS\n",
    "\n",
    "        indim,outdim = self.env.observation_space.shape[0],self.env.action_space.shape[0]\n",
    "        self.indim,self.outdim,self.hdim = indim,outdim,hdim\n",
    "        envActionRange = (self.env.action_space.low[0],self.env.action_space.high[0])\n",
    "        self.tvnet1 = createValueNetwork(indim,1,outdim,hdim)\n",
    "        self.tvnet2 = createValueNetwork(indim,1,outdim,hdim)\n",
    "        self.tpnet = createPolicyNetwork(indim,outdim,envActionRange,hdim)\n",
    "\n",
    "        self.ovnet1 = createValueNetwork(indim,1,outdim,hdim)\n",
    "        self.ovnet2 = createValueNetwork(indim,1,outdim,hdim)\n",
    "        self.opnet = createPolicyNetwork(indim,outdim,envActionRange,hdim)\n",
    "\n",
    "        self.tvnet1.load_state_dict(self.ovnet1.state_dict())\n",
    "        self.tvnet2.load_state_dict(self.ovnet2.state_dict())\n",
    "        self.tpnet.load_state_dict(self.opnet.state_dict())\n",
    "        if policyOptimizerFn=='adam':\n",
    "          self.poptim = torch.optim.Adam(self.opnet.parameters(),lr = policyOptimizerLR)\n",
    "        elif policyOptimizerFn=='sgd':\n",
    "          self.poptim = torch.optim.SGD(self.opnet.parameters(),lr = policyOptimizerLR)\n",
    "        else:\n",
    "          self.poptim = torch.optim.RMSprop(self.opnet.parameters(),lr = policyOptimizerLR)\n",
    "\n",
    "        if valueOptimizerFn=='adam':\n",
    "          self.voptim = torch.optim.Adam(list(self.ovnet1.parameters())+list(self.ovnet2.parameters()),lr = valueOptimizerLR)\n",
    "        elif valueOptimizerFn=='sgd':\n",
    "          self.voptim = torch.optim.SGD(list(self.ovnet1.parameters())+list(self.ovnet2.parameters()),lr = valueOptimizerLR)\n",
    "        else:\n",
    "          self.voptim = torch.optim.RMSprop(list(self.ovnet1.parameters())+list(self.ovnet2.parameters()),lr = valueOptimizerLR)\n",
    "        self.initBookKeeping()\n",
    "        self.rbuffer = ReplayBuffer(self.buffer_size,self.batch_size,seed)\n"
   ]
  },
  {
   "cell_type": "code",
   "execution_count": 35,
   "metadata": {
    "id": "OEsiDUd6Gf5A"
   },
   "outputs": [],
   "source": [
    "class TD3(TD3):\n",
    "    def initBookKeeping(self):\n",
    "        #this method creates and intializes all the variables required for book-keeping values and it is called\n",
    "        #init method\n",
    "      self.trainRewardsList = []\n",
    "      self.trainTimeList = []\n",
    "      self.evalRewardsList = []\n",
    "      self.wallClockTimeList = []\n",
    "      self.steps = []"
   ]
  },
  {
   "cell_type": "code",
   "execution_count": 36,
   "metadata": {
    "id": "pgL1MjD3Gapf"
   },
   "outputs": [],
   "source": [
    "class TD3(TD3):\n",
    "    def performBookKeeping(self,rewards, train = True):\n",
    "        #this method updates relevant variables for the bookKeeping, this can be called\n",
    "        #multiple times during training\n",
    "        #if you want you can print information using this, so it may help to monitor progress and also help to debug\n",
    "        #\n",
    "        if train:\n",
    "          self.trainRewardsList.append(np.sum(rewards))\n",
    "          # self.trainTimeList.append(self.traintime)\n",
    "          # self.wallClockTimeList.append(self.st_time-self.end_time)\n",
    "        else:\n",
    "          self.evalRewardsList.append(np.sum(rewards))\n",
    "        return"
   ]
  },
  {
   "cell_type": "code",
   "execution_count": 37,
   "metadata": {
    "id": "Tns-xXITe69S"
   },
   "outputs": [],
   "source": [
    "class TD3(TD3):\n",
    "    def updateValueNetwork(self, onlineNet, targetNet, tau):\n",
    "        #this function updates the onlineNetwork with the target network\n",
    "        #\n",
    "        targetNet.load_state_dict(onlineNet.state_dict())\n",
    "        new_state_dict = {name:param for name,param in targetNet.named_parameters()}\n",
    "        for p1,p2 in zip(targetNet.named_parameters(),onlineNet.named_parameters()):\n",
    "          new_state_dict[p1[0]] = self.tau*p2[1]+(1-self.tau)*p1[1]\n",
    "        targetNet.load_state_dict(new_state_dict)\n",
    "        return onlineNet,targetNet\n"
   ]
  },
  {
   "cell_type": "code",
   "execution_count": 38,
   "metadata": {
    "id": "mX0t855be69S"
   },
   "outputs": [],
   "source": [
    "class TD3(TD3):\n",
    "    def updatePolicyNetwork(self, onlineNet, targetNet, tau):\n",
    "        #this function updates the onlineNetwork with the target network\n",
    "        #\n",
    "        targetNet.load_state_dict(onlineNet.state_dict())\n",
    "        new_state_dict = {name:param for name,param in targetNet.named_parameters()}\n",
    "        for p1,p2 in zip(targetNet.named_parameters(),onlineNet.named_parameters()):\n",
    "          new_state_dict[p1[0]] = self.tau*p2[1]+(1-self.tau)*p1[1]\n",
    "        targetNet.load_state_dict(new_state_dict)\n",
    "        return onlineNet,targetNet\n"
   ]
  },
  {
   "cell_type": "code",
   "execution_count": 39,
   "metadata": {
    "id": "btMjZm14e69S"
   },
   "outputs": [],
   "source": [
    "class TD3(TD3):\n",
    "    def gaussianStrategy (self, net , s , envActionRange , noiseScaleRatio ,\n",
    "        explorationMax = True ):\n",
    "        #this function sets the scale of exploration then add the noise of this scale to the greedy action\n",
    "        #and clips it within the range\n",
    "\n",
    "        actionlowval,actionhighval = envActionRange\n",
    "        if explorationMax:\n",
    "            scale = actionhighval\n",
    "        else:\n",
    "            scale = noiseScaleRatio*actionhighval\n",
    "        # print(s.shape)\n",
    "        s = torch.tensor(s).float()\n",
    "        greedyaction = net(s.view(1,-1))\n",
    "        noise = scale*torch.randn(self.env.action_space.shape[0])\n",
    "\n",
    "        action = greedyaction+noise\n",
    "\n",
    "        # action = np.clip(action,actionlowval,actionhighval)\n",
    "        # print(greedyaction,noise,action)\n",
    "        return action\n"
   ]
  },
  {
   "cell_type": "code",
   "execution_count": 40,
   "metadata": {
    "id": "_bJhJj6Ze69b"
   },
   "outputs": [],
   "source": [
    "class TD3(TD3):\n",
    "    def greedyStrategy (self, net , s , envActionRange ):\n",
    "        #this function selects the greedy action\n",
    "        #and clips it within the range\n",
    "\n",
    "        actionlowval,actionhighval = envActionRange\n",
    "        s = torch.tensor(s).float()\n",
    "        action = net(s.view(1,-1))\n",
    "        # action = torch.clamp(action,min=actionlowval,max=actionhighval)\n",
    "        return action\n"
   ]
  },
  {
   "cell_type": "code",
   "execution_count": 41,
   "metadata": {
    "id": "hI552Qdie69b"
   },
   "outputs": [],
   "source": [
    "class TD3(TD3):\n",
    "    def runTD3 (self):\n",
    "        #this is the main method, it trains the agent, performs bookkeeping while training and finally evaluates\n",
    "        #the agent and returns the following quantities:\n",
    "        #1. episode wise mean train rewards\n",
    "        #2. epsiode wise mean eval rewards\n",
    "        #2. episode wise trainTime (in seconds): time elapsed during training since the start of the first episode\n",
    "        #3. episode wise wallClockTime (in seconds): actual time elapsed since the start of training,\n",
    "        #                               note this will include time for BookKeeping and evaluation\n",
    "        # Note both trainTime and wallClockTime get accumulated as episodes proceed.\n",
    "        #\n",
    "        result_train = self.trainAgent()\n",
    "        result_eval = self.evaluateAgent()\n",
    "        # self.finalEvalReward = result_eval[-1]\n",
    "        # plot\n",
    "\n",
    "        return self.trainRewardsList, self.trainTimeList, self.evalRewardsList, self.wallClockTimeList,self.steps\n"
   ]
  },
  {
   "cell_type": "code",
   "execution_count": 42,
   "metadata": {
    "id": "ANjAnB_re69c"
   },
   "outputs": [],
   "source": [
    "class TD3(TD3):\n",
    "    def trainAgent(self):\n",
    "        #this method collects experiences and trains the agent and does BookKeeping while training.\n",
    "        #this calls the trainNetwork() method internally, it also evaluates the agent per episode\n",
    "        #it trains the agent for MAX_TRAIN_EPISODES\n",
    "        #\n",
    "        # self.ovnet,self.tvnet = self.updateValueNetwork(self.ovnet,self.tvnet,self.tau)\n",
    "        # self.opnet,self.tpnet = self.updatePolicyNetwork(self.opnet,self.tpnet,self.tau)\n",
    "        w_time = 0\n",
    "        t_time=0\n",
    "        envActionRange = (self.env.action_space.low[0],self.env.action_space.high[0])\n",
    "        for e in tqdm(range(self.tep)):\n",
    "            stps = 0\n",
    "            self.st_time = time.time()\n",
    "            s,_ = self.env.reset()\n",
    "\n",
    "            rew=0\n",
    "            done = False\n",
    "            trunc = False\n",
    "            self.traintime = 0\n",
    "            while not (done or stps>self.mx_stps or trunc):\n",
    "                a = self.gaussianStrategy(self.opnet,s,envActionRange,noiseScaleRatio)\n",
    "                a = a.data.numpy().flatten()\n",
    "                # print(env.step(a))\n",
    "                stps+=1\n",
    "                s_next,r,done,trunc,_ = self.env.step(a)\n",
    "\n",
    "                rew+=r\n",
    "                self.rbuffer.store(s,a,r,s_next,done)\n",
    "                # print(self.rbuffer.length(),done)\n",
    "                # if self.rbuffer.length()>1:\n",
    "                #     print('in',self.rbuffer.length(),done)\n",
    "                if self.rbuffer.length()>minSamples:\n",
    "                    experiences = self.rbuffer.sample(self.batch_size)\n",
    "                    self.traintime = timeit.timeit(lambda :self.trainNetwork(experiences,envActionRange,e),number=1)\n",
    "                s = s_next\n",
    "                # print(s)\n",
    "            self.steps.append(stps)\n",
    "            self.performBookKeeping(rew)\n",
    "            self.evaluateAgent()\n",
    "            self.end_time = time.time()\n",
    "            w_time+=self.end_time-self.st_time\n",
    "            t_time+=self.traintime\n",
    "            self.wallClockTimeList.append(w_time)\n",
    "            self.trainTimeList.append(t_time)\n",
    "            # print(np.sum(rew),len(self.trainRewardsList),len(self.trainTimeList),len(self.evalRewardsList))\n",
    "        return self.trainRewardsList, self.trainTimeList, self.evalRewardsList, self.wallClockTimeList"
   ]
  },
  {
   "cell_type": "code",
   "execution_count": 43,
   "metadata": {
    "id": "0j_vGiEse69c"
   },
   "outputs": [],
   "source": [
    "class TD3(TD3):\n",
    "    def trainNetwork(self,experiences , envActionRange,episode):\n",
    "        # this method trains the value network epoch number of times and is called by the trainAgent function\n",
    "        # it essentially uses the experiences to calculate target, using the targets it calculates the error, which\n",
    "        # is further used for calulating the loss. It then uses the optimizer over the loss\n",
    "        # to update the params of the network by backpropagating through the network\n",
    "        # this function does not return anything\n",
    "        # you can try out other loss functions other than MSE like Huber loss, MAE, etc.\n",
    "        #\n",
    "        actionlowval,actionhighval = envActionRange\n",
    "        states,actions,rewards,nextstates,dones= self.rbuffer.splitExperiences(experiences)\n",
    "        states = torch.tensor(states).float()\n",
    "        actions = torch.tensor(actions).float()\n",
    "        rewards = torch.tensor(rewards).float()\n",
    "        nextstates = torch.tensor(nextstates).float()\n",
    "        dones = torch.tensor(dones).float()\n",
    "        for ep in range(epochs):\n",
    "            as_noise = (actionhighval-actionlowval)*torch.randn(actions.shape)\n",
    "            as_noise = torch.clamp(as_noise,min=actionlowval,max=actionhighval)\n",
    "            argmax_a_qs_v = self.tpnet(nextstates)\n",
    "            noisy_argmax_a_qs_v = argmax_a_qs_v+as_noise\n",
    "            noisy_argmax_a_qs_v = torch.clamp(noisy_argmax_a_qs_v,min = actionlowval,max = actionhighval)\n",
    "\n",
    "            max1_a_qs_v = self.tvnet1(nextstates,noisy_argmax_a_qs_v)\n",
    "            max2_a_qs_v = self.tvnet2(nextstates,noisy_argmax_a_qs_v)\n",
    "            max_a_qs_v = torch.min(max1_a_qs_v,max2_a_qs_v)\n",
    "\n",
    "            target_qs = rewards.view(-1,1)+self.gamma*max_a_qs_v.detach()*(1-dones.view(-1,1))\n",
    "            # print(self.tvnet(torch.tensor(np.array(nextstates),dtype = torch.float32),argmax_a_qs_v),argmax_a_qs_v)\n",
    "            qs1 = self.ovnet1(states,actions)\n",
    "            qs2 = self.ovnet2(states,actions)\n",
    "            # print(tderr,qs)\n",
    "            vloss = loss_fn(target_qs,qs1)+loss_fn(target_qs,qs2)\n",
    "\n",
    "            self.voptim.zero_grad()\n",
    "            vloss.backward()\n",
    "            # nn.utils.clip_grad_norm_(self.ovnet1.parameters(), 1.0)\n",
    "            # nn.utils.clip_grad_norm_(self.ovnet2.parameters(), 1.0)\n",
    "            self.voptim.step()\n",
    "\n",
    "            if episode%self.trainPolicyFrequency==0:\n",
    "                argmax_a_qs_p = self.opnet(nextstates)\n",
    "                max_a_qs_p = self.ovnet1(nextstates,argmax_a_qs_p)\n",
    "                # max2_a_qs_p = self.ovnet2(nextstates,argmax_a_qs_p)\n",
    "                ploss = -torch.mean(max_a_qs_p)\n",
    "                self.poptim.zero_grad()\n",
    "                # print(grad(ploss,self.opnet.parameters(),retain_graph = True,allow_unused = True))\n",
    "                ploss.backward()\n",
    "\n",
    "                self.poptim.step()\n",
    "        for param, target_param in zip(self.ovnet1.parameters(), self.tvnet1.parameters()):\n",
    "            target_param.data.copy_(self.tau * param.data + (1 - self.tau) * target_param.data)\n",
    "        for param, target_param in zip(self.ovnet2.parameters(), self.tvnet2.parameters()):\n",
    "            target_param.data.copy_(self.tau * param.data + (1 - self.tau) * target_param.data)\n",
    "        for param, target_param in zip(self.opnet.parameters(), self.tpnet.parameters()):\n",
    "            target_param.data.copy_(self.tau * param.data + (1 - self.tau) * target_param.data)"
   ]
  },
  {
   "cell_type": "code",
   "execution_count": 44,
   "metadata": {
    "id": "Np1uywWiSS2i"
   },
   "outputs": [],
   "source": [
    "class TD3(TD3):\n",
    "    def runTD3maml(self,epochs,ntasks,nshots=1,g=0):\n",
    "        ends = np.random.uniform(0, 2*np.pi, ntasks)\n",
    "        print(ends)\n",
    "        envs = [gym.make(\"mypendu1\", render_mode=None,end = end,g=g) for end in ends]\n",
    "        # envs_train = envs[:int(0.8*len(envs))]\n",
    "        # envs_test = envs[int(0.8*len(envs)):]\n",
    "        inner_lr = 0.001\n",
    "        meta_lr = 0.0001\n",
    "        shs = None\n",
    "        sha = None\n",
    "        indim,outdim,hdim = self.indim,self.outdim,self.hdim\n",
    "        for epoch in tqdm(range(epochs)):\n",
    "            vgrads1 = []\n",
    "            vgrads2 = []\n",
    "            pgrads = []\n",
    "            for env in envs:\n",
    "                totploss = 0\n",
    "                totvloss = 0\n",
    "                envActionRange = (self.env.action_space.low[0],self.env.action_space.high[0])\n",
    "                self.rbuffer.clean()\n",
    "                cctvnet1 = createValueNetwork(indim,1,outdim,hdim)\n",
    "                cctvnet2 = createValueNetwork(indim,1,outdim,hdim)\n",
    "                cctpnet = createPolicyNetwork(indim,outdim,envActionRange,hdim)\n",
    "\n",
    "                ccovnet1 = createValueNetwork(indim,1,outdim,hdim)\n",
    "                ccovnet2 = createValueNetwork(indim,1,outdim,hdim)\n",
    "                ccopnet = createPolicyNetwork(indim,outdim,envActionRange,hdim)\n",
    "\n",
    "                ccopnet.load_state_dict(self.opnet.state_dict())\n",
    "                ccovnet1.load_state_dict(self.ovnet1.state_dict())\n",
    "                ccovnet2.load_state_dict(self.ovnet2.state_dict())\n",
    "                cctvnet1.load_state_dict(ccovnet1.state_dict())\n",
    "                cctvnet2.load_state_dict(ccovnet2.state_dict())\n",
    "                cctpnet.load_state_dict(ccopnet.state_dict())\n",
    "                fast_v1 = dict((name,param) for (name,param) in ccovnet1.named_parameters())\n",
    "                fast_v2 = dict((name,param) for (name,param) in ccovnet2.named_parameters())\n",
    "                fast_p = dict((name,param) for (name,param) in ccopnet.named_parameters())\n",
    "                for e in range(self.mep):\n",
    "                    stps = 0\n",
    "                    # self.st_time = time.time()\n",
    "                    s,_ = env.reset()\n",
    "\n",
    "                    rew=0\n",
    "                    done = False\n",
    "                    trunc = False\n",
    "\n",
    "                    # self.traintime = 0\n",
    "                    while not (done or stps>self.mx_stps or trunc):\n",
    "                        a = self.gaussianStrategy(ccopnet,s,envActionRange,noiseScaleRatio)\n",
    "                        a = a.data.numpy().flatten()\n",
    "                        # print(env.step(a))\n",
    "                        stps+=1\n",
    "                        s_next,r,done,trunc,_ = env.step(a)\n",
    "\n",
    "                        rew+=r\n",
    "                        self.rbuffer.store(s,a,r,s_next,done)\n",
    "                        s = s_next\n",
    "                experiences = self.rbuffer.sample(self.rbuffer.length())\n",
    "                actionlowval,actionhighval = envActionRange\n",
    "                states,actions,rewards,nextstates,dones= self.rbuffer.splitExperiences(experiences)\n",
    "                states = torch.tensor(states).float()\n",
    "                shs = states.shape\n",
    "                sha = actions.shape\n",
    "                actions = torch.tensor(actions).float()\n",
    "                rewards = torch.tensor(rewards).float()\n",
    "                nextstates = torch.tensor(nextstates).float()\n",
    "                dones = torch.tensor(dones).float()\n",
    "                for _ in range(nshots):\n",
    "                    as_noise = (actionhighval-actionlowval)*torch.randn(actions.shape)\n",
    "                    as_noise = torch.clamp(as_noise,min=actionlowval,max=actionhighval)\n",
    "                    argmax_a_qs_v = cctpnet(nextstates)\n",
    "                    noisy_argmax_a_qs_v = argmax_a_qs_v+as_noise\n",
    "                    noisy_argmax_a_qs_v = torch.clamp(noisy_argmax_a_qs_v,min = actionlowval,max = actionhighval)\n",
    "\n",
    "                    max1_a_qs_v = cctvnet1(nextstates,noisy_argmax_a_qs_v)\n",
    "                    max2_a_qs_v = cctvnet2(nextstates,noisy_argmax_a_qs_v)\n",
    "                    max_a_qs_v = torch.min(max1_a_qs_v,max2_a_qs_v)\n",
    "\n",
    "                    target_qs = rewards.view(-1,1)+self.gamma*max_a_qs_v.detach()*(1-dones.view(-1,1))\n",
    "                    # print(self.tvnet(torch.tensor(np.array(nextstates),dtype = torch.float32),argmax_a_qs_v),argmax_a_qs_v)\n",
    "                    qs1 = ccovnet1(states,actions)\n",
    "                    qs2 = ccovnet2(states,actions)\n",
    "                    # print(tderr,qs)\n",
    "                    vloss1 = loss_fn(target_qs,qs1)\n",
    "                    vloss2 = loss_fn(target_qs,qs2)\n",
    "                    gd1 = grad(vloss1,ccovnet1.parameters())\n",
    "                    gd2 = grad(vloss2,ccovnet2.parameters())\n",
    "                    fast_v1 = dict((name, param - inner_lr * g) for ((name, param), g) in zip(fast_v1.items(), gd1))\n",
    "                    fast_v2 = dict((name, param - inner_lr * g) for ((name, param), g) in zip(fast_v2.items(), gd2))\n",
    "                    ccovnet1.load_state_dict(fast_v1)\n",
    "                    ccovnet2.load_state_dict(fast_v2)\n",
    "                    # nn.utils.clip_grad_norm_(self.ovnet1.parameters(), 1.0)\n",
    "                    # nn.utils.clip_grad_norm_(self.ovnet2.parameters(), 1.0)\n",
    "\n",
    "                    argmax_a_qs_p = ccopnet(nextstates)\n",
    "                    max_a_qs_p = ccovnet1(nextstates,argmax_a_qs_p)\n",
    "                    ploss = -torch.mean(max_a_qs_p)\n",
    "                    gdp = grad(ploss,ccopnet.parameters())\n",
    "                    fast_p = dict((name, param - inner_lr * g) for ((name, param), g) in zip(fast_p.items(), gdp))\n",
    "                    for param, target_param in zip(ccovnet1.parameters(), cctvnet1.parameters()):\n",
    "                        target_param.data.copy_(self.tau * param.data + (1 - self.tau) * target_param.data)\n",
    "                    for param, target_param in zip(ccovnet2.parameters(), cctvnet2.parameters()):\n",
    "                        target_param.data.copy_(self.tau * param.data + (1 - self.tau) * target_param.data)\n",
    "                    for param, target_param in zip(ccopnet.parameters(), cctpnet.parameters()):\n",
    "                        target_param.data.copy_(self.tau * param.data + (1 - self.tau) * target_param.data)\n",
    "                # actionlowval,actionhighval = envActionRange\n",
    "                # states,actions,rewards,nextstates,dones= self.rbuffer.splitExperiences(experiences)\n",
    "                # states = torch.tensor(states).float()\n",
    "                # actions = torch.tensor(actions).float()\n",
    "                # rewards = torch.tensor(rewards).float()\n",
    "                # nextstates = torch.tensor(nextstates).float()\n",
    "                # dones = torch.tensor(dones).float()\n",
    "                as_noise = (actionhighval-actionlowval)*torch.randn(actions.shape)\n",
    "                as_noise = torch.clamp(as_noise,min=actionlowval,max=actionhighval)\n",
    "                argmax_a_qs_v = cctpnet(nextstates)\n",
    "                noisy_argmax_a_qs_v = argmax_a_qs_v+as_noise\n",
    "                noisy_argmax_a_qs_v = torch.clamp(noisy_argmax_a_qs_v,min = actionlowval,max = actionhighval)\n",
    "\n",
    "                max1_a_qs_v = cctvnet1(nextstates,noisy_argmax_a_qs_v)\n",
    "                max2_a_qs_v = cctvnet2(nextstates,noisy_argmax_a_qs_v)\n",
    "                max_a_qs_v = torch.min(max1_a_qs_v,max2_a_qs_v)\n",
    "\n",
    "                target_qs = rewards.view(-1,1)+self.gamma*max_a_qs_v.detach()*(1-dones.view(-1,1))\n",
    "                # print(self.tvnet(torch.tensor(np.array(nextstates),dtype = torch.float32),argmax_a_qs_v),argmax_a_qs_v)\n",
    "                qs1 = ccovnet1(states,actions)\n",
    "                qs2 = ccovnet2(states,actions)\n",
    "                # print(tderr,qs)\n",
    "                totvloss += loss_fn(target_qs,qs1)+loss_fn(target_qs,qs2)\n",
    "                # nn.utils.clip_grad_norm_(self.ovnet1.parameters(), 1.0)\n",
    "                # nn.utils.clip_grad_norm_(self.ovnet2.parameters(), 1.0)\n",
    "                # print(e)\n",
    "                argmax_a_qs_p = ccopnet(nextstates)\n",
    "                max_a_qs_p = ccovnet1(nextstates,argmax_a_qs_p)\n",
    "                # max2_a_qs_p = self.ovnet2(nextstates,argmax_a_qs_p)\n",
    "                totploss += -torch.mean(max_a_qs_p)\n",
    "                for param, target_param in zip(ccovnet1.parameters(), cctvnet1.parameters()):\n",
    "                    target_param.data.copy_(self.tau * param.data + (1 - self.tau) * target_param.data)\n",
    "                for param, target_param in zip(ccovnet2.parameters(), cctvnet2.parameters()):\n",
    "                    target_param.data.copy_(self.tau * param.data + (1 - self.tau) * target_param.data)\n",
    "                for param, target_param in zip(ccopnet.parameters(), cctpnet.parameters()):\n",
    "                    target_param.data.copy_(self.tau * param.data + (1 - self.tau) * target_param.data)\n",
    "                gv1 = torch.autograd.grad(totvloss, ccovnet1.parameters(), create_graph=True)\n",
    "                gv2  = torch.autograd.grad(totvloss, ccovnet2.parameters(), create_graph=True)\n",
    "                # print(totvloss,totploss)\n",
    "                gp = torch.autograd.grad(totploss, ccopnet.parameters(), create_graph=True)\n",
    "                vmeta_grads1 = {name:g for ((name, _), g) in zip(ccovnet1.named_parameters(), gv1)}\n",
    "                vmeta_grads2 = {name:g for ((name, _), g) in zip(ccovnet2.named_parameters(), gv2)}\n",
    "                pmeta_grads = {name:g for ((name, _), g) in zip(ccopnet.named_parameters(), gp)}\n",
    "                # print(vmeta_grads1)\n",
    "                vgrads1.append(vmeta_grads1)\n",
    "                vgrads2.append(vmeta_grads2)\n",
    "                pgrads.append(pmeta_grads)\n",
    "            output1 = self.ovnet1(torch.zeros(shs),torch.zeros(sha))\n",
    "            trg = torch.zeros(output1.shape)\n",
    "            output2 = self.ovnet2(torch.zeros(shs),torch.zeros(sha))\n",
    "            loss1 = loss_fn(output1,trg)\n",
    "            loss1.backward(retain_graph=True)\n",
    "            loss2 = loss_fn(output2,trg)\n",
    "            loss2.backward(retain_graph=True)\n",
    "            outputp = self.opnet(torch.zeros(shs))\n",
    "            max_a_qs_p = self.ovnet1(nextstates,outputp)\n",
    "            lossp = -torch.mean(max_a_qs_p)\n",
    "            lossp.backward(retain_graph=True)\n",
    "            # print(lossp)\n",
    "            gradientsv1 = {k: sum(d[k] for d in vgrads1) for k in vgrads1[0].keys()}\n",
    "            gradientsv2 = {k: sum(d[k] for d in vgrads2) for k in vgrads2[0].keys()}\n",
    "            gradientsp = {k: sum(d[k] for d in pgrads) for k in pgrads[0].keys()}\n",
    "            hooks = []\n",
    "            for(k,v) in self.opnet.named_parameters():\n",
    "                def get_closure():\n",
    "                    key = k\n",
    "                    def replace_grad(grad):\n",
    "                        return gradientsp[key]\n",
    "                    return replace_grad\n",
    "                hooks.append(v.register_hook(get_closure()))\n",
    "            torch.optim.Adam(self.opnet.parameters(), lr=meta_lr).zero_grad()\n",
    "            lossp.backward()\n",
    "\n",
    "            torch.optim.Adam(self.opnet.parameters(), lr=meta_lr).step()\n",
    "\n",
    "            # Remove the hooks before next training phase\n",
    "            for h in hooks:\n",
    "                h.remove()\n",
    "\n",
    "            hooks = []\n",
    "            for(k,v) in self.ovnet1.named_parameters():\n",
    "                def get_closure():\n",
    "                    key = k\n",
    "                    def replace_grad(grad):\n",
    "                        return gradientsv1[key]\n",
    "                    return replace_grad\n",
    "                hooks.append(v.register_hook(get_closure()))\n",
    "            torch.optim.Adam(self.ovnet1.parameters(), lr=meta_lr).zero_grad()\n",
    "            loss1.backward()\n",
    "\n",
    "            torch.optim.Adam(self.ovnet1.parameters(), lr=meta_lr).step()\n",
    "\n",
    "            # Remove the hooks before next training phase\n",
    "            for h in hooks:\n",
    "                h.remove()\n",
    "            hooks = []\n",
    "            for(k,v) in self.ovnet2.named_parameters():\n",
    "                def get_closure():\n",
    "                    key = k\n",
    "                    def replace_grad(grad):\n",
    "                        return gradientsv1[key]\n",
    "                    return replace_grad\n",
    "                hooks.append(v.register_hook(get_closure()))\n",
    "            torch.optim.Adam(self.ovnet2.parameters(), lr=meta_lr).zero_grad()\n",
    "            loss2.backward()\n",
    "\n",
    "            torch.optim.Adam(self.ovnet2.parameters(), lr=meta_lr).step()\n",
    "\n",
    "            # Remove the hooks before next training phase\n",
    "            for h in hooks:\n",
    "                h.remove()\n",
    "            # self.meta_test(envs[0],nshots=nshots)\n"
   ]
  },
  {
   "cell_type": "code",
   "execution_count": 45,
   "metadata": {},
   "outputs": [],
   "source": [
    "class TD3(TD3):\n",
    "    def runTD3reptile(self,epochs,ntasks,nshots=1,g=0):\n",
    "        ends = np.random.uniform(0, 2*np.pi, ntasks)\n",
    "        print(ends)\n",
    "        envs = [gym.make(\"mypendu1\", render_mode=None,end = end,g=g) for end in ends]\n",
    "        # envs_train = envs[:int(0.8*len(envs))]\n",
    "        # envs_test = envs[int(0.8*len(envs)):]\n",
    "        inner_lr = 0.0005\n",
    "        meta_lr = 0.0001\n",
    "        shs = None\n",
    "        sha = None\n",
    "        indim,outdim,hdim = self.indim,self.outdim,self.hdim\n",
    "        for epoch in tqdm(range(epochs)):\n",
    "            vgrads1 = []\n",
    "            vgrads2 = []\n",
    "            pgrads = []\n",
    "            for env in envs:\n",
    "                totploss = 0\n",
    "                totvloss = 0\n",
    "                envActionRange = (self.env.action_space.low[0],self.env.action_space.high[0])\n",
    "                self.rbuffer.clean()\n",
    "                \n",
    "                cctvnet1 = createValueNetwork(indim,1,outdim,hdim)\n",
    "                cctvnet2 = createValueNetwork(indim,1,outdim,hdim)\n",
    "                cctpnet = createPolicyNetwork(indim,outdim,envActionRange,hdim)\n",
    "\n",
    "                ccovnet1 = createValueNetwork(indim,1,outdim,hdim)\n",
    "                ccovnet2 = createValueNetwork(indim,1,outdim,hdim)\n",
    "                ccopnet = createPolicyNetwork(indim,outdim,envActionRange,hdim)\n",
    "\n",
    "                ccopnet.load_state_dict(self.opnet.state_dict())\n",
    "                ccovnet1.load_state_dict(self.ovnet1.state_dict())\n",
    "                ccovnet2.load_state_dict(self.ovnet2.state_dict())\n",
    "                cctvnet1.load_state_dict(ccovnet1.state_dict())\n",
    "                cctvnet2.load_state_dict(ccovnet2.state_dict())\n",
    "                cctpnet.load_state_dict(ccopnet.state_dict())\n",
    "                \n",
    "                optov1 = torch.optim.Adam(ccovnet1.parameters(),lr = inner_lr)\n",
    "                optov2 = torch.optim.Adam(ccovnet2.parameters(),lr = inner_lr)\n",
    "                optop = torch.optim.Adam(ccopnet.parameters(),lr = inner_lr)\n",
    "                \n",
    "                # fast_v1 = dict((name,param) for (name,param) in ccovnet1.named_parameters())\n",
    "                # fast_v2 = dict((name,param) for (name,param) in ccovnet2.named_parameters())\n",
    "                # fast_p = dict((name,param) for (name,param) in ccopnet.named_parameters())\n",
    "                \n",
    "\n",
    "                \n",
    "                for _ in range(nshots):\n",
    "                    for e in range(self.mep):\n",
    "                        stps = 0\n",
    "                        s,_ = env.reset()\n",
    "                        rew=0\n",
    "                        done = False\n",
    "                        trunc = False\n",
    "                        while not (done or stps>self.mx_stps or trunc):\n",
    "                            a = self.gaussianStrategy(ccopnet,s,envActionRange,noiseScaleRatio)\n",
    "                            a = a.data.numpy().flatten()\n",
    "                            stps+=1\n",
    "                            s_next,r,done,trunc,_ = env.step(a)\n",
    "                            rew+=r\n",
    "                            self.rbuffer.store(s,a,r,s_next,done)\n",
    "                            s = s_next\n",
    "                    experiences = self.rbuffer.sample(self.rbuffer.length())\n",
    "                    actionlowval,actionhighval = envActionRange\n",
    "                    states,actions,rewards,nextstates,dones= self.rbuffer.splitExperiences(experiences)\n",
    "                    states = torch.tensor(states).float()\n",
    "                    shs = states.shape\n",
    "                    sha = actions.shape\n",
    "                    actions = torch.tensor(actions).float()\n",
    "                    rewards = torch.tensor(rewards).float()\n",
    "                    nextstates = torch.tensor(nextstates).float()\n",
    "                    dones = torch.tensor(dones).float()\n",
    "\n",
    "\n",
    "                    \n",
    "                    as_noise = (actionhighval-actionlowval)*torch.randn(actions.shape)\n",
    "                    as_noise = torch.clamp(as_noise,min=actionlowval,max=actionhighval)\n",
    "                    argmax_a_qs_v = cctpnet(nextstates)\n",
    "                    noisy_argmax_a_qs_v = argmax_a_qs_v+as_noise\n",
    "                    noisy_argmax_a_qs_v = torch.clamp(noisy_argmax_a_qs_v,min = actionlowval,max = actionhighval)\n",
    "\n",
    "                    max1_a_qs_v = cctvnet1(nextstates,noisy_argmax_a_qs_v)\n",
    "                    max2_a_qs_v = cctvnet2(nextstates,noisy_argmax_a_qs_v)\n",
    "                    max_a_qs_v = torch.min(max1_a_qs_v,max2_a_qs_v)\n",
    "\n",
    "                    target_qs = rewards.view(-1,1)+self.gamma*max_a_qs_v.detach()*(1-dones.view(-1,1))\n",
    "                    # print(self.tvnet(torch.tensor(np.array(nextstates),dtype = torch.float32),argmax_a_qs_v),argmax_a_qs_v)\n",
    "                    qs1 = ccovnet1(states,actions)\n",
    "                    qs2 = ccovnet2(states,actions)\n",
    "                    # print(tderr,qs)\n",
    "                    vloss1 = loss_fn(target_qs,qs1)\n",
    "                    vloss2 = loss_fn(target_qs,qs2)\n",
    "\n",
    "                    vloss1.backward()\n",
    "                    vloss2.backward()\n",
    "                    optov1.step()\n",
    "                    optov2.step()\n",
    "                    \n",
    "                    argmax_a_qs_p = ccopnet(nextstates)\n",
    "                    max_a_qs_p = ccovnet1(nextstates,argmax_a_qs_p)\n",
    "                    ploss = -torch.mean(max_a_qs_p)\n",
    "                    ploss.backward()\n",
    "                    optop.step()\n",
    "                    \n",
    "                    for param, target_param in zip(ccovnet1.parameters(), cctvnet1.parameters()):\n",
    "                        target_param.data.copy_(self.tau * param.data + (1 - self.tau) * target_param.data)\n",
    "                    for param, target_param in zip(ccovnet2.parameters(), cctvnet2.parameters()):\n",
    "                        target_param.data.copy_(self.tau * param.data + (1 - self.tau) * target_param.data)\n",
    "                    for param, target_param in zip(ccopnet.parameters(), cctpnet.parameters()):\n",
    "                        target_param.data.copy_(self.tau * param.data + (1 - self.tau) * target_param.data)\n",
    "                # actionlowval,actionhighval = envActionRange\n",
    "                # states,actions,rewards,nextstates,dones= self.rbuffer.splitExperiences(experiences)\n",
    "                # states = torch.tensor(states).float()\n",
    "                # actions = torch.tensor(actions).float()\n",
    "                # rewards = torch.tensor(rewards).float()\n",
    "                # nextstates = torch.tensor(nextstates).float()\n",
    "                # dones = torch.tensor(dones).float()\n",
    "                \n",
    "                # vmeta_grads1 = {name:g for ((name, _), g) in zip(ccovnet1.named_parameters(), gv1)}\n",
    "                # vmeta_grads2 = {name:g for ((name, _), g) in zip(ccovnet2.named_parameters(), gv2)}\n",
    "                # pmeta_grads = {name:g for ((name, _), g) in zip(ccopnet.named_parameters(), gp)}\n",
    "                # print(vmeta_grads1)\n",
    "                vgrads1.append(\n",
    "                [param.data - model_param.data for param, model_param in zip(ccovnet1.parameters(), self.ovnet1.parameters())]\n",
    "            )\n",
    "                vgrads2.append(\n",
    "                [param.data - model_param.data for param, model_param in zip(ccovnet2.parameters(), self.ovnet2.parameters())]\n",
    "            )\n",
    "                pgrads.append(\n",
    "                [param.data - model_param.data for param, model_param in zip(ccopnet.parameters(), self.opnet.parameters())]\n",
    "            )\n",
    "            outoptv1 = torch.optim.Adam(self.ovnet1.parameters(),lr = meta_lr)\n",
    "            outoptv2 = torch.optim.Adam(self.ovnet2.parameters(),lr = meta_lr)\n",
    "            outoptp = torch.optim.Adam(self.opnet.parameters(),lr = meta_lr)\n",
    "            \n",
    "            meta_gv1 = torch.stack(vgrads1).mean(dim=0)\n",
    "            meta_gv2 = torch.stack(vgrads2).mean(dim=0)\n",
    "            meta_gp = torch.stack(pgrads).mean(dim=0)\n",
    "\n",
    "            for param, grad in zip(self.ovnet1.parameters(),meta_gv1 ):\n",
    "                param.grad = grad.clone()\n",
    "            outoptv1.step()\n",
    "            for param, grad in zip(self.ovnet2.parameters(),meta_gv2 ):\n",
    "                param.grad = grad.clone()\n",
    "            outoptv2.step()\n",
    "            for param, grad in zip(self.opnet.parameters(),meta_gp ):\n",
    "                param.grad = grad.clone()\n",
    "            outoptp.step()\n",
    "\n",
    "            # self.meta_test(envs[0],nshots=nshots)\n"
   ]
  },
  {
   "cell_type": "code",
   "execution_count": 88,
   "metadata": {
    "id": "foUkWInkSS2i"
   },
   "outputs": [],
   "source": [
    "class TD3(TD3):\n",
    "    def meta_test(self,env,nshots=1):\n",
    "        tccovnet1 = copy.deepcopy(self.ovnet1)\n",
    "        tccovnet2 = copy.deepcopy(self.ovnet2)\n",
    "        tccopnet = copy.deepcopy(self.opnet)\n",
    "        tcctvnet1 = copy.deepcopy(self.tvnet1)\n",
    "        tcctvnet2 = copy.deepcopy(self.tvnet2)\n",
    "        tcctpnet = copy.deepcopy(self.tpnet)\n",
    "        opt1 = torch.optim.Adam(tccovnet1.parameters())\n",
    "        opt2 = torch.optim.Adam(tccovnet2.parameters())\n",
    "        opt3 = torch.optim.Adam(tccopnet.parameters())\n",
    "        self.rbuffer.clean()\n",
    "        envActionRange = (env.action_space.low[0],env.action_space.high[0])\n",
    "        # for e in range(128):\n",
    "\n",
    "        for _ in range(nshots):\n",
    "            # for e in range(self.mep):\n",
    "            stps = 0\n",
    "            s,_ = env.reset()\n",
    "            rew=0\n",
    "            done = False\n",
    "            trunc = False\n",
    "            while not (done or stps>self.mx_stps or trunc):\n",
    "                a = self.gaussianStrategy(tccopnet,s,envActionRange,noiseScaleRatio)\n",
    "                a = a.data.numpy().flatten()\n",
    "                stps+=1\n",
    "                s_next,r,done,trunc,_ = env.step(a)\n",
    "                rew+=r\n",
    "                self.rbuffer.store(s,a,r,s_next,done)\n",
    "                s = s_next\n",
    "            experiences = self.rbuffer.sample(self.rbuffer.length())\n",
    "            actionlowval,actionhighval = envActionRange\n",
    "            states,actions,rewards,nextstates,dones= self.rbuffer.splitExperiences(experiences)\n",
    "            states = torch.tensor(states).float()\n",
    "            shs = states.shape\n",
    "            sha = actions.shape\n",
    "            actions = torch.tensor(actions).float()\n",
    "            rewards = torch.tensor(rewards).float()\n",
    "            nextstates = torch.tensor(nextstates).float()\n",
    "            dones = torch.tensor(dones).float()\n",
    "            \n",
    "            as_noise = (actionhighval-actionlowval)*torch.randn(actions.shape)\n",
    "            as_noise = torch.clamp(as_noise,min=actionlowval,max=actionhighval)\n",
    "            argmax_a_qs_v = tcctpnet(nextstates)\n",
    "            noisy_argmax_a_qs_v = argmax_a_qs_v+as_noise\n",
    "            noisy_argmax_a_qs_v = torch.clamp(noisy_argmax_a_qs_v,min = actionlowval,max = actionhighval)\n",
    "\n",
    "            max1_a_qs_v = tcctvnet1(nextstates,noisy_argmax_a_qs_v)\n",
    "            max2_a_qs_v = tcctvnet2(nextstates,noisy_argmax_a_qs_v)\n",
    "            max_a_qs_v = torch.min(max1_a_qs_v,max2_a_qs_v)\n",
    "\n",
    "            target_qs = rewards.view(-1,1)+self.gamma*max_a_qs_v.detach()*(1-dones.view(-1,1))\n",
    "            # print(self.tvnet(torch.tensor(np.array(nextstates),dtype = torch.float32),argmax_a_qs_v),argmax_a_qs_v)\n",
    "            qs1 = tccovnet1(states,actions)\n",
    "            qs2 = tccovnet2(states,actions)\n",
    "            # print(tderr,qs)\n",
    "            vloss1 = loss_fn(target_qs,qs1)\n",
    "            vloss2 = loss_fn(target_qs,qs2)\n",
    "            opt1.zero_grad()\n",
    "            opt2.zero_grad()\n",
    "            vloss1.backward()\n",
    "            vloss2.backward()\n",
    "            opt1.step()\n",
    "            opt2.step()\n",
    "            # nn.utils.clip_grad_norm_(self.ovnet1.parameters(), 1.0)\n",
    "            # nn.utils.clip_grad_norm_(self.ovnet2.parameters(), 1.0)\n",
    "\n",
    "            argmax_a_qs_p = tccopnet(nextstates)\n",
    "            max_a_qs_p = tccovnet1(nextstates,argmax_a_qs_p)\n",
    "            ploss = -torch.mean(max_a_qs_p)\n",
    "            opt3.zero_grad()\n",
    "            ploss.backward()\n",
    "            opt3.step()\n",
    "            for param, target_param in zip(tccovnet1.parameters(), tcctvnet1.parameters()):\n",
    "                target_param.data.copy_(self.tau * param.data + (1 - self.tau) * target_param.data)\n",
    "            for param, target_param in zip(tccovnet2.parameters(), tcctvnet2.parameters()):\n",
    "                target_param.data.copy_(self.tau * param.data + (1 - self.tau) * target_param.data)\n",
    "            for param, target_param in zip(tccopnet.parameters(), tcctpnet.parameters()):\n",
    "                target_param.data.copy_(self.tau * param.data + (1 - self.tau) * target_param.data)\n",
    "\n",
    "\n",
    "        rew = []\n",
    "        tccopnet.eval()\n",
    "\n",
    "        for e in range(self.eep):\n",
    "            stps = 0\n",
    "            rs= 0\n",
    "            s,_ = env.reset()\n",
    "\n",
    "            done = False\n",
    "            trunc = False\n",
    "            for c in count():\n",
    "                a = self.greedyStrategy(tccopnet,s,envActionRange)\n",
    "                a = a.data.numpy().flatten()\n",
    "                stps+=1\n",
    "                s,r,done,trunc,_ = env.step(a)\n",
    "                rs+=r\n",
    "                if done or stps>self.mx_stps or trunc:\n",
    "                    rew.append(rs)\n",
    "                    break\n",
    "        # print(np.sum(rew))\n",
    "        return np.sum(rew)"
   ]
  },
  {
   "cell_type": "code",
   "execution_count": 47,
   "metadata": {
    "id": "mqFVbqC3e69d"
   },
   "outputs": [],
   "source": [
    "class TD3(TD3):\n",
    "    def evaluateAgent(self):\n",
    "        #this function evaluates the agent using the value network, it evaluates agent for MAX_EVAL_EPISODES\n",
    "        #typcially MAX_EVAL_EPISODES = 1\n",
    "        #\n",
    "        rew = []\n",
    "        self.opnet.eval()\n",
    "        envActionRange = (self.env.action_space.low[0],self.env.action_space.high[0])\n",
    "        for e in range(self.eep):\n",
    "            stps = 0\n",
    "            rs= 0\n",
    "            s,_ = self.env.reset()\n",
    "\n",
    "            done = False\n",
    "            trunc = False\n",
    "            for c in count():\n",
    "                a = self.greedyStrategy(self.opnet,s,envActionRange)\n",
    "                a = a.data.numpy().flatten()\n",
    "                stps+=1\n",
    "                s,r,done,trunc,_ = self.env.step(a)\n",
    "                rs+=r\n",
    "                if done or stps>self.mx_stps or trunc:\n",
    "                    rew.append(rs)\n",
    "                    break\n",
    "        print(np.sum(rew))\n",
    "        self.performBookKeeping(rew,train=False)\n",
    "        return"
   ]
  },
  {
   "cell_type": "code",
   "execution_count": 48,
   "metadata": {
    "id": "l_fIog0ZSS2j"
   },
   "outputs": [],
   "source": [
    "class TD3(TD3):\n",
    "    def huvaluate(self,env,seed=None):\n",
    "        rew = []\n",
    "        envActionRange = (self.env.action_space.low[0],self.env.action_space.high[0])\n",
    "        self.opnet.eval()\n",
    "        for e in range(self.eep):\n",
    "            rs= 0\n",
    "            stps = 0\n",
    "            s,_ = env.reset(seed=seed)\n",
    "            done = False\n",
    "            trunc = False\n",
    "            for c in count():\n",
    "                a = self.greedyStrategy(self.opnet,s,envActionRange)\n",
    "                a = a.data.numpy().flatten()\n",
    "                env.render()\n",
    "                stps+=1\n",
    "                s,r,done,trunc,_ = env.step(a)\n",
    "                rs+=r\n",
    "                if done or stps>self.mx_stps or trunc:\n",
    "                    print(stps)\n",
    "                    rew.append(rs)\n",
    "                    break\n",
    "        print(np.sum(rew))\n",
    "        # self.performBookKeeping(rew,train=False)\n",
    "        return"
   ]
  },
  {
   "cell_type": "code",
   "execution_count": 49,
   "metadata": {
    "id": "Epuq1otHSS2j"
   },
   "outputs": [],
   "source": [
    "# torch.autograd.set_detect_anomaly(False)"
   ]
  },
  {
   "cell_type": "code",
   "execution_count": 103,
   "metadata": {
    "colab": {
     "base_uri": "https://localhost:8080/"
    },
    "id": "bsZjhNhITeaa",
    "outputId": "66639a91-d00a-468b-ca88-d1ae068f6678",
    "scrolled": true
   },
   "outputs": [],
   "source": [
    "# env = gym.make('CartPole-v0')\n",
    "# env = gym.make(\"Hopper-v4\")\n",
    "# env = gym.make(\"Pendulum-v1\")\n",
    "# env = gym.make(\"HalfCheetah-v4\")\n",
    "# print(env.action_space)\n",
    "target_angle = 1*np.pi/2\n",
    "g = 0.0\n",
    "env = gym.make(\"mypendu1\", render_mode=None,end = target_angle,g=g)\n",
    "minSamples = 128\n",
    "epochs = 1\n",
    "noiseScaleRatio = 1\n",
    "nshots=1\n",
    "# loss_fn = nn.SmoothL1Loss()\n",
    "loss_fn = nn.MSELoss()\n",
    "# td3 = TD3(env,0,0.99,0.005,100000,256,[256,512,256],1,1,1,'adam','adam',0.0005,0.0005,1,1,16,_,100)\n",
    "td3 = TD3(env,0,0.99,0.005,100000,256,[100,100],1,1,1,'adam','adam',0.0005,0.0005,1,1,16,_,100)\n",
    "# plt_list = td3.runTD3()\n",
    "# td3.runTD3maml(100,20,nshots=nshots,g=0)\n"
   ]
  },
  {
   "cell_type": "code",
   "execution_count": 104,
   "metadata": {
    "id": "AnUNM6ONSS2k"
   },
   "outputs": [
    {
     "data": {
      "text/plain": [
       "<All keys matched successfully>"
      ]
     },
     "execution_count": 104,
     "metadata": {},
     "output_type": "execute_result"
    }
   ],
   "source": [
    "'meta_demo_256_512_256_15_7.pt'\n",
    "# pth = 'meta_demo_256_512_256_10.pt'\n",
    "'meta_demo_256_512_512_256_25_2.pt'\n",
    "'reptile_demo_256_512_256_15_7.pt'\n",
    "pth = 'reptile_demo_256_512_256_30_7.pt'\n",
    "'reptile_demo_256_512_512_256_25_2.pt'\n",
    "chkpt = torch.load(pth)\n",
    "td3.ovnet1.load_state_dict(chkpt[\"ovnet1\"])\n",
    "td3.ovnet2.load_state_dict(chkpt[\"ovnet2\"])\n",
    "td3.opnet.load_state_dict(chkpt[\"opnet\"])\n",
    "td3.tvnet1.load_state_dict(chkpt[\"tvnet1\"])\n",
    "td3.tvnet2.load_state_dict(chkpt[\"tvnet2\"])\n",
    "td3.tpnet.load_state_dict(chkpt[\"tpnet\"])"
   ]
  },
  {
   "cell_type": "code",
   "execution_count": 105,
   "metadata": {
    "colab": {
     "base_uri": "https://localhost:8080/"
    },
    "id": "rSOFbwDESS2k",
    "outputId": "4c99498c-96c6-4c4d-abbb-97945822f99f"
   },
   "outputs": [
    {
     "data": {
      "text/plain": [
       "(array([6., 4., 6., 7., 5., 2., 0., 0., 0., 0., 0., 1., 0., 0., 2., 2., 0.,\n",
       "        3., 2., 0., 1., 5., 1., 0., 3.]),\n",
       " array([-484.27869229, -470.77455511, -457.27041793, -443.76628075,\n",
       "        -430.26214357, -416.7580064 , -403.25386922, -389.74973204,\n",
       "        -376.24559486, -362.74145768, -349.2373205 , -335.73318333,\n",
       "        -322.22904615, -308.72490897, -295.22077179, -281.71663461,\n",
       "        -268.21249743, -254.70836026, -241.20422308, -227.7000859 ,\n",
       "        -214.19594872, -200.69181154, -187.18767437, -173.68353719,\n",
       "        -160.17940001, -146.67526283]),\n",
       " <BarContainer object of 25 artists>)"
      ]
     },
     "execution_count": 105,
     "metadata": {},
     "output_type": "execute_result"
    },
    {
     "data": {
      "image/png": "[encoded data removed]",
      "text/plain": [
       "<Figure size 640x480 with 1 Axes>"
      ]
     },
     "metadata": {},
     "output_type": "display_data"
    }
   ],
   "source": [
    "env = gym.make(\"mypendu1\", render_mode = None,start = [1*np.pi/4,0.01],end = np.pi/2,g=0)\n",
    "loss = []\n",
    "for _ in range(50):\n",
    "    loss.append(td3.meta_test(env,nshots=1))\n",
    "plt.hist(loss,bins=25)"
   ]
  },
  {
   "cell_type": "code",
   "execution_count": 800,
   "metadata": {
    "id": "f3aqvkfP3g0z"
   },
   "outputs": [],
   "source": [
    "# pth = \"meta_demo_256_512_256_10.pt\"\n",
    "# torch.save({\"tvnet1\":td3.tvnet1.state_dict(),\n",
    "#             \"tvnet2\":td3.tvnet2.state_dict(),\n",
    "#             \"tpnet\":td3.tpnet.state_dict(),\n",
    "#             \"ovnet1\":td3.ovnet1.state_dict(),\n",
    "#             \"ovnet2\":td3.ovnet2.state_dict(),\n",
    "#             \"opnet\":td3.opnet.state_dict()},pth)"
   ]
  },
  {
   "cell_type": "code",
   "execution_count": null,
   "metadata": {
    "colab": {
     "base_uri": "https://localhost:8080/",
     "height": 291
    },
    "id": "_aDu_E8Q4hqj",
    "outputId": "2c087266-1b49-45e3-91ba-3db5f5bbf9a5"
   },
   "outputs": [
    {
     "ename": "FileNotFoundError",
     "evalue": "Cannot find file: /content/meta_demo_256_512_256_10.pt",
     "output_type": "error",
     "traceback": [
      "\u001b[0;31m---------------------------------------------------------------------------\u001b[0m",
      "\u001b[0;31mFileNotFoundError\u001b[0m                         Traceback (most recent call last)",
      "\u001b[0;32m<ipython-input-52-033695b26243>\u001b[0m in \u001b[0;36m<cell line: 2>\u001b[0;34m()\u001b[0m\n\u001b[1;32m      1\u001b[0m \u001b[0;32mfrom\u001b[0m \u001b[0mgoogle\u001b[0m\u001b[0;34m.\u001b[0m\u001b[0mcolab\u001b[0m \u001b[0;32mimport\u001b[0m \u001b[0mfiles\u001b[0m\u001b[0;34m\u001b[0m\u001b[0;34m\u001b[0m\u001b[0m\n\u001b[0;32m----> 2\u001b[0;31m \u001b[0mfiles\u001b[0m\u001b[0;34m.\u001b[0m\u001b[0mdownload\u001b[0m\u001b[0;34m(\u001b[0m\u001b[0;34m\"/content/{}\"\u001b[0m\u001b[0;34m.\u001b[0m\u001b[0mformat\u001b[0m\u001b[0;34m(\u001b[0m\u001b[0mpth\u001b[0m\u001b[0;34m)\u001b[0m\u001b[0;34m)\u001b[0m\u001b[0;34m\u001b[0m\u001b[0;34m\u001b[0m\u001b[0m\n\u001b[0m",
      "\u001b[0;32m/usr/local/lib/python3.10/dist-packages/google/colab/files.py\u001b[0m in \u001b[0;36mdownload\u001b[0;34m(filename)\u001b[0m\n\u001b[1;32m    223\u001b[0m   \u001b[0;32mif\u001b[0m \u001b[0;32mnot\u001b[0m \u001b[0m_os\u001b[0m\u001b[0;34m.\u001b[0m\u001b[0mpath\u001b[0m\u001b[0;34m.\u001b[0m\u001b[0mexists\u001b[0m\u001b[0;34m(\u001b[0m\u001b[0mfilename\u001b[0m\u001b[0;34m)\u001b[0m\u001b[0;34m:\u001b[0m\u001b[0;34m\u001b[0m\u001b[0;34m\u001b[0m\u001b[0m\n\u001b[1;32m    224\u001b[0m     \u001b[0mmsg\u001b[0m \u001b[0;34m=\u001b[0m \u001b[0;34m'Cannot find file: {}'\u001b[0m\u001b[0;34m.\u001b[0m\u001b[0mformat\u001b[0m\u001b[0;34m(\u001b[0m\u001b[0mfilename\u001b[0m\u001b[0;34m)\u001b[0m\u001b[0;34m\u001b[0m\u001b[0;34m\u001b[0m\u001b[0m\n\u001b[0;32m--> 225\u001b[0;31m     \u001b[0;32mraise\u001b[0m \u001b[0mFileNotFoundError\u001b[0m\u001b[0;34m(\u001b[0m\u001b[0mmsg\u001b[0m\u001b[0;34m)\u001b[0m  \u001b[0;31m# pylint: disable=undefined-variable\u001b[0m\u001b[0;34m\u001b[0m\u001b[0;34m\u001b[0m\u001b[0m\n\u001b[0m\u001b[1;32m    226\u001b[0m \u001b[0;34m\u001b[0m\u001b[0m\n\u001b[1;32m    227\u001b[0m   \u001b[0mcomm_manager\u001b[0m \u001b[0;34m=\u001b[0m \u001b[0m_IPython\u001b[0m\u001b[0;34m.\u001b[0m\u001b[0mget_ipython\u001b[0m\u001b[0;34m(\u001b[0m\u001b[0;34m)\u001b[0m\u001b[0;34m.\u001b[0m\u001b[0mkernel\u001b[0m\u001b[0;34m.\u001b[0m\u001b[0mcomm_manager\u001b[0m\u001b[0;34m\u001b[0m\u001b[0;34m\u001b[0m\u001b[0m\n",
      "\u001b[0;31mFileNotFoundError\u001b[0m: Cannot find file: /content/meta_demo_256_512_256_10.pt"
     ]
    }
   ],
   "source": [
    "from google.colab import files\n",
    "files.download(\"/content/{}\".format(pth))"
   ]
  },
  {
   "cell_type": "code",
   "execution_count": 59,
   "metadata": {
    "colab": {
     "base_uri": "https://localhost:8080/",
     "height": 861
    },
    "id": "BKJ3xQE7Te-F",
    "outputId": "600b1225-c19f-469f-83f4-d99eac815c9f"
   },
   "outputs": [
    {
     "data": {
      "image/png": "[encoded data removed]",
      "text/plain": [
       "<Figure size 640x480 with 1 Axes>"
      ]
     },
     "metadata": {},
     "output_type": "display_data"
    },
    {
     "data": {
      "text/plain": [
       "[<matplotlib.lines.Line2D at 0x7a8d51511c90>]"
      ]
     },
     "execution_count": 59,
     "metadata": {},
     "output_type": "execute_result"
    },
    {
     "data": {
      "image/png": "[encoded data removed]",
      "text/plain": [
       "<Figure size 640x480 with 1 Axes>"
      ]
     },
     "metadata": {},
     "output_type": "display_data"
    }
   ],
   "source": [
    "plt.plot(td3.trainRewardsList)\n",
    "plt.show()\n",
    "plt.plot(td3.evalRewardsList)"
   ]
  },
  {
   "cell_type": "code",
   "execution_count": null,
   "metadata": {
    "colab": {
     "base_uri": "https://localhost:8080/"
    },
    "id": "j0KFwwh8cB47",
    "outputId": "3eec5f7d-265b-474b-cbad-ba84b458675e",
    "scrolled": true
   },
   "outputs": [
    {
     "name": "stdout",
     "output_type": "stream",
     "text": [
      "101\n",
      "-599.5834948643387\n"
     ]
    }
   ],
   "source": [
    "env = gym.make(\"mypendu1\", render_mode=\"human\",start = [-np.pi/4,0.01],end =0,g=g)\n",
    "td3.huvaluate(env)"
   ]
  },
  {
   "cell_type": "code",
   "execution_count": null,
   "metadata": {
    "id": "wDvuXJjVdA3k"
   },
   "outputs": [],
   "source": [
    "# torch.save({\"plotlist\":plotlist},'lists_assn4_hc.pt')\n",
    "# print(plotlist)"
   ]
  },
  {
   "cell_type": "code",
   "execution_count": null,
   "metadata": {
    "id": "U7URSws5c_AF"
   },
   "outputs": [],
   "source": [
    "plotlist =torch.load('/content/lists_assn4_hc.pt')['plotlist']\n",
    "plotQuantity(plotlist,[\"trainRewardsList\", \"trainTimeList\", \"evalRewardsList\", \"wallClockTimeList\",\"steps\"],-1)"
   ]
  },
  {
   "cell_type": "markdown",
   "metadata": {
    "id": "jJW5pPTSe69d"
   },
   "source": [
    "# PPO\n",
    "<a id=\"PPO\"></a>"
   ]
  },
  {
   "cell_type": "markdown",
   "metadata": {
    "id": "lFUa3zm4e69d"
   },
   "source": [
    "PPO have quite a few key implementation details.\n",
    "Please Refer:\n",
    "\"Proximal Policy Optimization Algorithms\" [PPO](https://arxiv.org/abs/1707.06347) and\n",
    "\"Implementation Matters in Deep RL: A Case Study on PPO and TRPO\" [Implementation Matters](https://openreview.net/forum?id=r1etN1rtPB)\n",
    "\n",
    "Lets finish things off with an easy implementation of PPO!\n",
    "A easy way to check you implementation details is running your implementation on some easier environment first and make sure it converges. Like \"CartPole-v1\" should converge to episodic return of 500 in around 300k steps."
   ]
  },
  {
   "cell_type": "code",
   "execution_count": null,
   "metadata": {
    "id": "4z6qgI8Ae69d"
   },
   "outputs": [],
   "source": [
    "#All imports here\n",
    "## Feel free to add or remove\n",
    "\n",
    "import os\n",
    "import random\n",
    "import time\n",
    "\n",
    "import gymnasium as gym\n",
    "import numpy as np\n",
    "import torch\n",
    "import torch.nn as nn\n",
    "import torch.optim as optim\n",
    "from torch.distributions.categorical import Categorical"
   ]
  },
  {
   "cell_type": "code",
   "execution_count": null,
   "metadata": {
    "id": "wFhNg_COe69e"
   },
   "outputs": [],
   "source": [
    "#Hyperparameters\n",
    "gym_id = \"CartPole-v1\"  #The id of the gym environment\n",
    "learning_rate = 0.001\n",
    "seed = 1\n",
    "total_timesteps =  #The total timesteps of the experiments\n",
    "torch_deterministic = True   #If toggled, `torch.backends.cudnn.deterministic=False\n",
    "cuda = True\n",
    "\n",
    "num_envs = 4  #The number of parallel game environments (Yes PPO works with vectorized environments)\n",
    "num_steps = 128 #The number of steps to run in each environment per policy rollout\n",
    "anneal_lr = True #Toggle learning rate annealing for policy and value networks\n",
    "gae = True #Use GAE for advantage computation\n",
    "gamma = 0.99\n",
    "gae_lambda =  #The lambda for the general advantage estimation\n",
    "num_minibatches = 4\n",
    "update_epochs =  #The K epochs to update the policy\n",
    "norm_adv = True  #Toggles advantages normalization\n",
    "clip_coef =  #The surrogate clipping coefficient (See what is recommended in the paper!)\n",
    "clip_vloss = True #Toggles whether or not to use a clipped loss for the value function, as per the paper\n",
    "ent_coef =  #Coefficient of the entropy\n",
    "vf_coef =  #Coefficient of the value function\n",
    "max_grad_norm = 0.5\n",
    "target_kl = None #The target KL divergence threshold\n",
    "\n",
    "\n",
    "batch_size = int(num_envs * num_steps)\n",
    "minibatch_size = int(batch_size // num_minibatches)\n"
   ]
  },
  {
   "cell_type": "code",
   "execution_count": null,
   "metadata": {
    "id": "hPMUwJrde69e"
   },
   "outputs": [],
   "source": [
    "#PPO works with vectorized enviromnets lets make a function that returns a function that returns an environment.\n",
    "#Refer how to make vectorized environments in gymnasium\n",
    "def make_env(gym_id, seed):\n",
    "    return gym.vector.make(gym_id, num_envs=num_envs)\n"
   ]
  },
  {
   "cell_type": "code",
   "execution_count": null,
   "metadata": {
    "id": "3g6rcqEme69e"
   },
   "outputs": [],
   "source": [
    "#We initialize the layers in PPO , refer paper.\n",
    "#Lets initialize the layers with this function\n",
    "def layer_init(layer, std=np.sqrt(2), bias_const=0.0):\n",
    "    #Initializes the weights and bias of the layers\n",
    "\n",
    "    return layer\n"
   ]
  },
  {
   "cell_type": "code",
   "execution_count": null,
   "metadata": {
    "id": "PK-K0mqye69e"
   },
   "outputs": [],
   "source": [
    "#Lets make the Main agent class\n",
    "class Agent(nn.Module):\n",
    "    def __init__(self, envs):\n",
    "        super(Agent, self).__init__()\n",
    "        hidden_dim = 64\n",
    "        state_dim = envs.\n",
    "        self.critic = nn.Sequential(\n",
    "            nn.Linear(state_dim, hidden_dim),\n",
    "            nn.ReLU(),\n",
    "            nn.Linear(hidden_dim, hidden_dim),\n",
    "            nn.ReLU(),\n",
    "            nn.Linear(hidden_dim, 1)\n",
    "        )\n",
    "        #(Returns a single value of the observation)\n",
    "\n",
    "        self.actor = nn.Sequential(\n",
    "            nn.Linear(state_dim, hidden_dim),\n",
    "            nn.ReLU(),\n",
    "            nn.Linear(hidden_dim, hidden_dim),\n",
    "            nn.ReLU(),\n",
    "            nn.Linear(hidden_dim, action_dim),\n",
    "            nn.Tanh()\n",
    "        )\n",
    "        #(Returns the logits of the actions on the observations)\n"
   ]
  },
  {
   "cell_type": "code",
   "execution_count": null,
   "metadata": {
    "id": "B4FHhTvNe69e"
   },
   "outputs": [],
   "source": [
    "class Agent(Agent):\n",
    "        def get_value(self, x):\n",
    "            # Returns the value from the critic on the observation x\n",
    "            return self.critic(x)"
   ]
  },
  {
   "cell_type": "code",
   "execution_count": null,
   "metadata": {
    "id": "GEw08wFge69f"
   },
   "outputs": [],
   "source": [
    "class Agent(Agent):\n",
    "    def get_action_and_value(self, x, action=None):\n",
    "        #Returns 1.the action (sampled according to the logits),\n",
    "        #2.log_prob of the action,\n",
    "        #3.Entropy,\n",
    "        #4.Value from the critic\n",
    "\n",
    "        #Your code here\n",
    "        return\n"
   ]
  },
  {
   "cell_type": "code",
   "execution_count": null,
   "metadata": {
    "id": "I3fgwWyae69f"
   },
   "outputs": [],
   "source": [
    "random.seed(seed)\n",
    "np.random.seed(seed)\n",
    "torch.manual_seed(seed)\n",
    "torch.backends.cudnn.deterministic = torch_deterministic\n",
    "\n",
    "device = torch.device(\"cuda\" if torch.cuda.is_available() and cuda else \"cpu\")\n"
   ]
  },
  {
   "cell_type": "code",
   "execution_count": null,
   "metadata": {
    "id": "KJwQhgqke69f"
   },
   "outputs": [],
   "source": [
    "#Make the vectorized environments, use the helper function that we have declared above\n",
    "envs = make_env(gym_id,seed)"
   ]
  },
  {
   "cell_type": "code",
   "execution_count": null,
   "metadata": {
    "id": "PG-qzko_e69f"
   },
   "outputs": [],
   "source": [
    "agent = Agent(envs).to(device)\n",
    "optimizer = optim.Adam(agent.parameters(), lr=learning_rate, eps=) #eps is not the default that pytorch uses\n",
    "\n",
    "# ALGO Logic: Storage setup\n",
    "obs = torch.zeros((num_steps, num_envs) + envs.single_observation_space.shape).to(device)\n",
    "actions = torch.zeros((num_steps, num_envs) + envs.single_action_space.shape).to(device)\n",
    "logprobs = torch.zeros((num_steps, num_envs)).to(device)\n",
    "rewards = torch.zeros((num_steps, num_envs)).to(device)\n",
    "dones = torch.zeros((num_steps, num_envs)).to(device)\n",
    "values = torch.zeros((num_steps, num_envs)).to(device)\n"
   ]
  },
  {
   "cell_type": "code",
   "execution_count": null,
   "metadata": {
    "id": "-v7ODD-Xe69f"
   },
   "outputs": [],
   "source": [
    "# Start the game\n",
    "global_step = 0\n",
    "start_time = time.time()\n",
    "next_obs, info = envs.reset()\n",
    "next_obs = torch.Tensor(next_obs).to(device)\n",
    "next_done = torch.zeros(num_envs).to(device)\n",
    "num_updates = total_timesteps // batch_size"
   ]
  },
  {
   "cell_type": "code",
   "execution_count": null,
   "metadata": {
    "id": "876dsOOie69f"
   },
   "outputs": [],
   "source": [
    "#This is the main training loop where we collect the experience ,\n",
    "#calculate the advantages, ratio , the total loss and learn the policy\n",
    "\n",
    "for update in range(1, num_updates + 1):\n",
    "\n",
    "    # Annealing the rate if instructed to do so.\n",
    "    if anneal_lr:\n",
    "        # Your code here\n",
    "        pass\n",
    "\n",
    "    for step in range(0, num_steps):\n",
    "        global_step += 1 * num_envs  # We are taking a step in each environment\n",
    "        obs[step] = next_obs\n",
    "        dones[step] = next_done\n",
    "\n",
    "        # ALGO LOGIC: action logic\n",
    "        with torch.no_grad():\n",
    "            #Get the action , logprob , _ , value from the agent.\n",
    "\n",
    "            action, logprob, _, value = # Your code here\n",
    "\n",
    "            values[step] = value.flatten()\n",
    "        actions[step] = action\n",
    "        logprobs[step] = logprob\n",
    "\n",
    "        # TRY NOT TO MODIFY: execute the game and log data.\n",
    "        next_obs, reward, done,truncated, info = envs.step(action.cpu().numpy())\n",
    "        rewards[step] = torch.tensor(reward).to(device).view(-1)\n",
    "        next_obs, next_done = torch.Tensor(next_obs).to(device), torch.Tensor(done).to(device)\n",
    "\n",
    "        for item in info:\n",
    "            if item == \"final_info\" and info[item][0] is not None:\n",
    "                print(f\"global_step={global_step}, episodic_return={info[item][0]['episode']['r']}\")\n",
    "                break\n",
    "\n",
    "    # bootstrap value if not done\n",
    "    with torch.no_grad():\n",
    "        next_value = agent.get_value(next_obs).reshape(1, -1)\n",
    "        if gae:\n",
    "            pass\n",
    "            # Your code here\n",
    "\n",
    "            #returns = advantages + values  (yes official implementation of ppo calculates it this way)\n",
    "        else:\n",
    "\n",
    "            # Your code here\n",
    "            pass\n",
    "\n",
    "            #advantages = returns - values\n",
    "\n",
    "    # flatten the batch\n",
    "    b_obs = obs.reshape((-1,) + envs.single_observation_space.shape)\n",
    "    b_logprobs = logprobs.reshape(-1)\n",
    "    b_actions = actions.reshape((-1,) + envs.single_action_space.shape)\n",
    "    b_advantages = advantages.reshape(-1)\n",
    "    b_returns = returns.reshape(-1)\n",
    "    b_values = values.reshape(-1)\n",
    "\n",
    "    # Optimizing the policy and value network\n",
    "    b_inds = np.arange(batch_size)\n",
    "    clipfracs = []\n",
    "    for epoch in range(update_epochs):\n",
    "        #Get a random sample of batch_size\n",
    "        np.random.shuffle(b_inds)\n",
    "        for start in range(0, batch_size, minibatch_size):\n",
    "            end = start + minibatch_size\n",
    "            mb_inds = b_inds[start:end]\n",
    "\n",
    "            #Your code here\n",
    "            #Calculate the ratio\n",
    "            _, newlogprob, entropy, newvalue =\n",
    "            logratio =\n",
    "            ratio =\n",
    "\n",
    "            with torch.no_grad():\n",
    "                # calculate approx_kl http://joschu.net/blog/kl-approx.html\n",
    "                # Refer the blog for calculating kl in a simpler way\n",
    "                old_approx_kl =\n",
    "                approx_kl =\n",
    "                clipfracs += [((ratio - 1.0).abs() > clip_coef).float().mean().item()]\n",
    "\n",
    "            mb_advantages = b_advantages[mb_inds]\n",
    "            if norm_adv:\n",
    "                mb_advantages = (mb_advantages - mb_advantages.mean()) / (mb_advantages.std() + 1e-8)\n",
    "\n",
    "            # Policy loss (Calculate the policy loss pg_loss)\n",
    "            # Your code here\n",
    "\n",
    "\n",
    "            # Value loss v_loss\n",
    "            newvalue = newvalue.view(-1)\n",
    "            if clip_vloss:\n",
    "                pass\n",
    "            else:\n",
    "                pass\n",
    "\n",
    "            # Entropy loss\n",
    "            entropy_loss =\n",
    "\n",
    "            # Total loss\n",
    "            loss = pg_loss - ent_coef * entropy_loss + v_loss * vf_coef\n",
    "\n",
    "            optimizer.zero_grad()\n",
    "            loss.backward()\n",
    "            nn.utils.clip_grad_norm_(agent.parameters(), max_grad_norm)\n",
    "            optimizer.step()\n",
    "\n",
    "        if target_kl is not None:\n",
    "            if approx_kl > target_kl:\n",
    "                break\n",
    "\n",
    "    y_pred, y_true = b_values.cpu().numpy(), b_returns.cpu().numpy()\n",
    "    var_y = np.var(y_true)\n",
    "    explained_var = np.nan if var_y == 0 else 1 - np.var(y_true - y_pred) / var_y\n",
    "\n",
    "\n",
    "envs.close()"
   ]
  },
  {
   "cell_type": "markdown",
   "metadata": {
    "id": "rDkCANf7e69g"
   },
   "source": [
    "# Experiments and Plots\n",
    "<a id=\"experiments\"></a>"
   ]
  },
  {
   "cell_type": "markdown",
   "metadata": {
    "id": "meaDUggze69g"
   },
   "source": [
    "Run the DDPG, TD3, PPO on Pendulum, Hopper and Half Cheetah environment respectively.\n",
    "\n",
    "Plot the following for each of the environment separately. Note based on different hyper-parameters and strategies you use, you can have multiple plots for each of the below.\n",
    "\n",
    "As you are aware from your past experience, single run of the agent over the environment results in plots that have lot of variance and look very noisy. One way to overcome this is to create several different instances of the environment using different seeds and then average out the results across these and plot these. For all the plots below, you this strategy. You need to run 5 different instances of the environment for each agent. As you have seen in the lecture slides, we plot the maximum and minimum values around the mean in the plots, so this gives us the shaded plot with the mean curve in the between. In this assignment, you are required to do the same. Generate plots with envelop between maximum and minimum value\n",
    "For each of the quantity of interest, plot each of the agent within the same plot using different colors for the envelop. Choose colors such that that there is clear contrast between the plots corresponding to different agents.\n",
    "\n",
    "1. Plot mean train rewards vs episodes\n",
    "2. Plot mean evaluation rewards vs episodes\n",
    "3. Plot total steps vs episode\n",
    "4. Plot train time vs episode\n",
    "5. Plot wall clock time vs episode\n",
    "6. Based on plots what are your observations about DDPG and TD3, compare the two algorithms.\n",
    "7. What is the advatage of PPO over DDPG or TD3?"
   ]
  },
  {
   "cell_type": "code",
   "execution_count": null,
   "metadata": {
    "id": "3rk5blvaktse"
   },
   "outputs": [],
   "source": [
    "loss_fn = nn.MSELoss()\n",
    "def runDeepAgents(env):\n",
    "    # this function will initialize 5 different instances of the env (using different seeds), run all the agents\n",
    "    # over these different instances. Collects results and generate the plots state above.\n",
    "    # generate your plots in the cells below\n",
    "    # write the answers to part 11, 12 and 13 in the cells below the plot-cells.\n",
    "    lllist = []\n",
    "    # env = gym.make(\"Hopper-v4\")\n",
    "    # env = gym.make(\"Pendulum-v1\")\n",
    "    # env = gym.make(\"HalfCheetah-v4\")\n",
    "    tep=500\n",
    "    llist = []\n",
    "\n",
    "    for seed in seeds:\n",
    "        agent = DDPG(env,seed,0.99,0.005,100000,128,[256,128],1,'adam','adam',0.001,0.001,20,1,_)\n",
    "        infolist = agent.runDDPG()\n",
    "        llist.append(infolist)\n",
    "    lllist.append(llist)\n",
    "    llist = []\n",
    "    for seed in seeds:\n",
    "        agent = TD3(env,seed,0.99,0.005,100000,128,[256,128],1,1,2,'adam','adam',0.001,0.001,20,1,_)\n",
    "        infolist = agent.runTD3()\n",
    "        llist.append(infolist)\n",
    "    lllist.append(llist)\n",
    "    return lllist\n"
   ]
  },
  {
   "cell_type": "code",
   "execution_count": null,
   "metadata": {
    "id": "fz0Myqa5leA0"
   },
   "outputs": [],
   "source": [
    "env = gym.make(\"Hopper-v4\")\n",
    "plotlist = runDeepAgents(env)\n",
    "plotQuantity(plotlist,[\"trainRewardsList\", \"trainTimeList\", \"evalRewardsList\", \"wallClockTimeList\",\"steps\"],-1)\n"
   ]
  },
  {
   "cell_type": "code",
   "execution_count": null,
   "metadata": {
    "id": "HUdir22QlkX8"
   },
   "outputs": [],
   "source": [
    "env = gym.make(\"Pendulum-v1\")\n",
    "plotlist = runDeepAgents(env)\n",
    "plotQuantity(plotlist,[\"trainRewardsList\", \"trainTimeList\", \"evalRewardsList\", \"wallClockTimeList\",\"steps\"],-1)\n"
   ]
  },
  {
   "cell_type": "code",
   "execution_count": null,
   "metadata": {
    "id": "rBmKf-cllszE"
   },
   "outputs": [],
   "source": [
    "env = gym.make(\"HalfCheetah-v4\")\n",
    "plotlist = runDeepAgents(env)\n",
    "plotQuantity(plotlist,[\"trainRewardsList\", \"trainTimeList\", \"evalRewardsList\", \"wallClockTimeList\",\"steps\"],-1)\n"
   ]
  },
  {
   "cell_type": "code",
   "execution_count": null,
   "metadata": {
    "id": "vwUl9NYdlHY6"
   },
   "outputs": [],
   "source": [
    "\"\"\"\n",
    "Q6\n",
    "Based on the above plots, we can see that TD3 performs slilghtly better in terms of faster convergence, less variance and better rewards for most of the environments.\n",
    "\"\"\""
   ]
  },
  {
   "cell_type": "code",
   "execution_count": null,
   "metadata": {
    "id": "tJQyHty6m7dV"
   },
   "outputs": [],
   "source": [
    "\"\"\"\n",
    "PPO algorithm can be run with vectorized environments which means it can make use of resources like GPUs and it significantly decreases the training time for the algorithm.\n",
    "Although I wasn't able to code the PPO algorithm properlt due to many errors, I have tried it using code from ChatGPT.\n",
    "\"\"\""
   ]
  },
  {
   "cell_type": "code",
   "execution_count": null,
   "metadata": {
    "id": "UzKBeTXTn7NL"
   },
   "outputs": [],
   "source": [
    "import torch\n",
    "import torch.nn as nn\n",
    "import torch.optim as optim\n",
    "import torch.nn.functional as F\n",
    "import numpy as np\n",
    "\n",
    "class ActorCritic(nn.Module):\n",
    "    def __init__(self, state_dim, action_dim, hidden_dim=64):\n",
    "        super(ActorCritic, self).__init__()\n",
    "        self.actor = nn.Sequential(\n",
    "            nn.Linear(state_dim, hidden_dim),\n",
    "            nn.ReLU(),\n",
    "            nn.Linear(hidden_dim, hidden_dim),\n",
    "            nn.ReLU(),\n",
    "            nn.Linear(hidden_dim, action_dim),\n",
    "            nn.Tanh()  # For bounded continuous actions\n",
    "        )\n",
    "        self.critic = nn.Sequential(\n",
    "            nn.Linear(state_dim, hidden_dim),\n",
    "            nn.ReLU(),\n",
    "            nn.Linear(hidden_dim, hidden_dim),\n",
    "            nn.ReLU(),\n",
    "            nn.Linear(hidden_dim, 1)\n",
    "        )\n",
    "\n",
    "    def forward(self, state):\n",
    "        action_mean = self.actor(state)\n",
    "        value = self.critic(state)\n",
    "        return action_mean, value\n",
    "\n",
    "class PPOAgent:\n",
    "    def __init__(self, state_dim, action_dim, lr=0.001, gamma=0.99, clip_ratio=0.2, value_coeff=0.5, entropy_coeff=0.01):\n",
    "        self.actor_critic = ActorCritic(state_dim, action_dim)\n",
    "        self.optimizer = optim.Adam(self.actor_critic.parameters(), lr=lr)\n",
    "        self.gamma = gamma\n",
    "        self.clip_ratio = clip_ratio\n",
    "        self.value_coeff = value_coeff\n",
    "        self.entropy_coeff = entropy_coeff\n",
    "\n",
    "    def get_action(self, state):\n",
    "        state = torch.FloatTensor(state).unsqueeze(0)\n",
    "        with torch.no_grad():\n",
    "            action_mean, _ = self.actor_critic(state)\n",
    "            action = action_mean.squeeze(0).numpy()\n",
    "        return action\n",
    "\n",
    "    def compute_advantages(self, rewards, dones, values, next_values):\n",
    "        deltas = rewards + self.gamma * next_values * (1 - dones) - values\n",
    "        print(deltas.shape)\n",
    "        advantages = torch.zeros(deltas.shape)\n",
    "        advantage = 0\n",
    "        for t in reversed(range(len(deltas))):\n",
    "            advantage = deltas[t] + self.gamma * advantage * (1 - dones[t])\n",
    "            advantages[t] = advantage.detach()\n",
    "        return advantages\n",
    "\n",
    "    def ppo_loss(self, states, actions, rewards, dones, next_states, old_action_probs, old_values):\n",
    "        states = torch.FloatTensor(states)\n",
    "        actions = torch.FloatTensor(actions)\n",
    "        rewards = torch.FloatTensor(rewards)\n",
    "        dones = torch.FloatTensor(dones)\n",
    "        next_states = torch.FloatTensor(next_states)\n",
    "\n",
    "        # Compute advantages\n",
    "        values = self.actor_critic.critic(states)\n",
    "        next_values = self.actor_critic.critic(next_states)\n",
    "        advantages = self.compute_advantages(rewards, dones, values, next_values)\n",
    "        advantages = (advantages - advantages.mean()) / (advantages.std() + 1e-8)\n",
    "\n",
    "        # Compute critic loss\n",
    "        target_values = rewards + self.gamma * next_values * (1 - dones)\n",
    "        critic_loss = F.mse_loss(values, target_values.detach())\n",
    "\n",
    "        # Compute actor loss\n",
    "        action_mean, _ = self.actor_critic(states)\n",
    "        new_action_probs = self._gaussian_likelihood(actions, action_mean)\n",
    "        old_action_probs = torch.FloatTensor(old_action_probs)\n",
    "        ratios = new_action_probs / (old_action_probs + 1e-8)\n",
    "        print(type(advantages))\n",
    "        surr1 = ratios *advantages\n",
    "        surr2 = torch.clamp(ratios, 1 - self.clip_ratio, 1 + self.clip_ratio) * advantages\n",
    "        actor_loss = -torch.mean(torch.min(surr1, surr2))\n",
    "\n",
    "        # Total loss\n",
    "        loss = actor_loss + self.value_coeff * critic_loss\n",
    "\n",
    "        return loss\n",
    "\n",
    "    def train(self, states, actions, rewards, dones, next_states, old_action_probs, old_values):\n",
    "        self.optimizer.zero_grad()\n",
    "        loss = self.ppo_loss(states, actions, rewards, dones, next_states, old_action_probs, old_values)\n",
    "        loss.backward()\n",
    "        self.optimizer.step()\n",
    "\n",
    "    def _gaussian_likelihood(self, action, mean):\n",
    "        std = 0.1  # Fixed standard deviation for simplicity\n",
    "        var = std**2\n",
    "        action_dim = action.size(-1)\n",
    "        log_std = torch.log(torch.tensor(std, dtype=torch.float32))\n",
    "        log_prob = -0.5 * (((action - mean) / (var + 1e-8)) ** 2 + 2 * log_std + np.log(2 * np.pi))\n",
    "        return log_prob.sum(dim=-1)\n",
    "\n",
    "# Example usage:\n",
    "# Replace envs with your own environment\n",
    "envs =gym.make(\"Hopper-v4\") # Replace None with your environment\n",
    "\n",
    "# Define hyperparameters\n",
    "state_dim = envs.observation_space.shape[0]\n",
    "action_dim = envs.action_space.shape[0]\n",
    "lr = 0.001\n",
    "gamma = 0.99\n",
    "clip_ratio = 0.2\n",
    "value_coeff = 0.5\n",
    "entropy_coeff = 0.01\n",
    "\n",
    "# Initialize PPO agent\n",
    "agent = PPOAgent(state_dim, action_dim, lr, gamma, clip_ratio, value_coeff, entropy_coeff)\n",
    "\n",
    "# Training loop\n",
    "num_updates = 100  # Number of updates\n",
    "num_steps = 100  # Number of steps per update\n",
    "batch_size = 64  # Batch size for training\n",
    "for update in tqdm(range(num_updates)):\n",
    "    # Lists to store experience\n",
    "    all_states = []\n",
    "    all_actions = []\n",
    "    all_rewards = []\n",
    "    all_dones = []\n",
    "    all_next_states = []\n",
    "    all_old_action_probs = []\n",
    "    all_old_values = []\n",
    "\n",
    "    for step in range(num_steps):\n",
    "        # Collect experience\n",
    "        state,_ = envs.reset()\n",
    "        done = False\n",
    "        trunc = False\n",
    "        rew = 0\n",
    "        while not (done or trunc):\n",
    "            # Get action from the agent\n",
    "            action = agent.get_action(state)\n",
    "\n",
    "            # Take a step in the environment\n",
    "            next_state, reward, done, trunc,_ = envs.step(action)\n",
    "\n",
    "            # Log data\n",
    "            rew+=reward\n",
    "            all_states.append(state)\n",
    "            all_actions.append(action)\n",
    "            all_rewards.append(reward)\n",
    "            all_dones.append(done)\n",
    "            all_next_states.append(next_state)\n",
    "\n",
    "            # Compute old action probabilities and values\n",
    "            with torch.no_grad():\n",
    "                action_mean, _ = agent.actor_critic(torch.FloatTensor(state))\n",
    "                old_action_prob = agent._gaussian_likelihood(torch.FloatTensor(action), action_mean)\n",
    "                all_old_action_probs.append(old_action_prob)\n",
    "                all_old_values.append(agent.actor_critic.critic(torch.FloatTensor(state)).item())\n",
    "\n",
    "            # Update state\n",
    "            state = next_state\n",
    "        print(rew)\n",
    "    # Perform updates\n",
    "    agent.train(all_states, all_actions, all_rewards, all_dones, all_next_states, all_old_action_probs, all_old_values)\n",
    "\n",
    "# Close the environment\n",
    "envs.close()\n"
   ]
  },
  {
   "cell_type": "code",
   "execution_count": null,
   "metadata": {
    "id": "9Q1g3rGqpNgK"
   },
   "outputs": [],
   "source": []
  }
 ],
 "metadata": {
  "colab": {
   "collapsed_sections": [
    "vu2sPr1he69K",
    "UQLclV2be69M",
    "zDzb1p2ee69N",
    "o4zCW_BJe69N",
    "_jVXlGOye69O"
   ],
   "provenance": []
  },
  "kaggle": {
   "accelerator": "none",
   "dataSources": [
    {
     "datasetId": 4822293,
     "sourceId": 8153103,
     "sourceType": "datasetVersion"
    }
   ],
   "dockerImageVersionId": 30684,
   "isGpuEnabled": false,
   "isInternetEnabled": true,
   "language": "python",
   "sourceType": "notebook"
  },
  "kernelspec": {
   "display_name": "rl",
   "language": "python",
   "name": "python3"
  },
  "language_info": {
   "codemirror_mode": {
    "name": "ipython",
    "version": 3
   },
   "file_extension": ".py",
   "mimetype": "text/x-python",
   "name": "python",
   "nbconvert_exporter": "python",
   "pygments_lexer": "ipython3",
   "version": "3.10.13"
  }
 },
 "nbformat": 4,
 "nbformat_minor": 4
}
